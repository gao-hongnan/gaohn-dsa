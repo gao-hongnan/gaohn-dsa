{
 "cells": [
  {
   "cell_type": "markdown",
   "id": "2f5126d3-e130-4176-b6aa-dde5d2363993",
   "metadata": {},
   "source": [
    "# Easy - Palindrome Checker"
   ]
  },
  {
   "cell_type": "code",
   "execution_count": 1,
   "id": "d4d8398b-ddce-4b98-91e6-0dda33da058d",
   "metadata": {
    "tags": [
     "remove-cell"
    ]
   },
   "outputs": [],
   "source": [
    "import sys\n",
    "from pathlib import Path\n",
    "parent_dir = str(Path().resolve().parent.parent)\n",
    "sys.path.append(parent_dir)"
   ]
  },
  {
   "cell_type": "code",
   "execution_count": 2,
   "id": "48eb9d42-6602-4f1c-a83f-6f35bca74b19",
   "metadata": {},
   "outputs": [],
   "source": [
    "from dataclasses import dataclass, field\n",
    "from typing import Any, List\n",
    "\n",
    "from dsa.queue import QueueList"
   ]
  },
  {
   "cell_type": "markdown",
   "id": "f4bad403-452e-4325-b193-061a1757eb0c",
   "metadata": {
    "tags": []
   },
   "source": [
    "## Problem\n",
    "\n",
    "[Question details can be found here](https://runestone.academy/ns/books/published/pythonds3/BasicDS/SimulationHotPotato.html)."
   ]
  },
  {
   "cell_type": "markdown",
   "id": "dab7d73c-28c9-4d04-b4e8-b3fe374805a8",
   "metadata": {},
   "source": [
    "## Constraints and Assumptions\n",
    "\n",
    "Placeholder."
   ]
  },
  {
   "cell_type": "markdown",
   "id": "81916259-e079-42bc-9111-455ff3befeaa",
   "metadata": {},
   "source": [
    "## Implementation\n",
    "\n",
    "- `num = 5` means when the counter reaches 5, the person holding the potato will be eliminated.\n",
    "- d, c, b, a (a is the first in queue and he holds the potato, counter starts at 0)\n",
    "- a, d, c, b (b holds the potato, counter is 1)\n",
    "- b, a, d, c (c holds the potato, counter is 2)\n",
    "- c, b, a, d (d holds the potato, counter is 3)\n",
    "- d, c, b, a (a holds the potato, counter is 4)\n",
    "- a, d, c, b (b holds the potato, counter is 5, b is eliminated)"
   ]
  },
  {
   "cell_type": "markdown",
   "id": "56edc02b-5085-4c78-9549-ce3b8fd27b3a",
   "metadata": {},
   "source": [
    "```{figure} ../assets/hot_potato.jpg\n",
    "---\n",
    "name: hot_potato\n",
    "---\n",
    "Hot Potato elimination diagram, with 4 people and num set to 5.\n",
    "```"
   ]
  },
  {
   "cell_type": "code",
   "execution_count": null,
   "id": "be1130fd-6acb-4ce2-9bc3-91ce0dd2e3ed",
   "metadata": {},
   "outputs": [],
   "source": [
    "str_1 = \"radar\"\n",
    "str_2 = \"lsdkjfskf\""
   ]
  },
  {
   "cell_type": "code",
   "execution_count": null,
   "id": "2e1c7566-8721-4722-97fa-7da65e5e5a38",
   "metadata": {},
   "outputs": [],
   "source": [
    "def check_palindrome(string: str) -> bool:\n",
    "    deque: DeQueueList[str] = DeQueueList()\n",
    "\n",
    "    for char in string:\n",
    "        deque.add_rear(char)  # enqueue\n",
    "\n",
    "    while deque.size > 1:\n",
    "        front = deque.remove_front()\n",
    "        rear = deque.remove_rear()\n",
    "        if front != rear:\n",
    "            return False\n",
    "\n",
    "    # if deque.size = 1 then it must be true\n",
    "    return True"
   ]
  },
  {
   "cell_type": "code",
   "execution_count": null,
   "id": "be8c53bc-31c4-4781-a47b-89eae8bccd35",
   "metadata": {},
   "outputs": [],
   "source": [
    "check_palindrome(str_1), check_palindrome(str_2)"
   ]
  },
  {
   "cell_type": "code",
   "execution_count": 3,
   "id": "84ff5664-6417-42d6-8b05-e7e0e000db24",
   "metadata": {},
   "outputs": [],
   "source": [
    "@dataclass(frozen=False, init=True)\n",
    "class Solution:\n",
    "    counter: int = 0\n",
    "    q: QueueList[str] = field(default_factory=QueueList)\n",
    "\n",
    "    def hot_potato(self, names: List[str], num: int) -> str:\n",
    "        for name in names:\n",
    "            self.q.enqueue(name)\n",
    "            \n",
    "        while self.q.size > 1:\n",
    "            first_in_q = self.q.dequeue()\n",
    "            self.q.enqueue(first_in_q)\n",
    "\n",
    "            self.counter += 1\n",
    "            if self.counter == num:\n",
    "                self.q.dequeue()\n",
    "                self.counter = 0  # reset\n",
    "\n",
    "        return self.q.dequeue()"
   ]
  },
  {
   "cell_type": "markdown",
   "id": "b246d53e-4e84-40b6-9b2e-ce76d8f38c34",
   "metadata": {},
   "source": [
    "Note `[\"Bill\", \"David\", \"Susan\", \"Jane\"]` means Bill is first in queue."
   ]
  },
  {
   "cell_type": "code",
   "execution_count": 4,
   "id": "aee5ff05-ddd0-4a30-b0ad-29b92a935ca5",
   "metadata": {},
   "outputs": [
    {
     "name": "stdout",
     "output_type": "stream",
     "text": [
      "Susan\n"
     ]
    }
   ],
   "source": [
    "print(Solution().hot_potato(names=[\"Bill\", \"David\", \"Susan\", \"Jane\"], num=5)) # Susan"
   ]
  },
  {
   "cell_type": "markdown",
   "id": "4a9e0291-df03-4b22-9d9a-39689a2676f0",
   "metadata": {},
   "source": [
    "## Time Complexity"
   ]
  },
  {
   "cell_type": "markdown",
   "id": "4d40dea4-9dc5-4d2c-9df4-73b4eb636bb6",
   "metadata": {},
   "source": [
    "## Space Complexity"
   ]
  }
 ],
 "metadata": {
  "kernelspec": {
   "display_name": "Python 3 (ipykernel)",
   "language": "python",
   "name": "python3"
  },
  "language_info": {
   "codemirror_mode": {
    "name": "ipython",
    "version": 3
   },
   "file_extension": ".py",
   "mimetype": "text/x-python",
   "name": "python",
   "nbconvert_exporter": "python",
   "pygments_lexer": "ipython3",
   "version": "3.8.10"
  }
 },
 "nbformat": 4,
 "nbformat_minor": 5
}
