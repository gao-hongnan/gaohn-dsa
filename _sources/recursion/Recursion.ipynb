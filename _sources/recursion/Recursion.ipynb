{
 "cells": [
  {
   "cell_type": "markdown",
   "id": "f84b7281-3828-4a51-950c-5c8366e90bee",
   "metadata": {},
   "source": [
    "# Recursion"
   ]
  },
  {
   "cell_type": "markdown",
   "id": "f52fbc32-9e9d-44d5-9a53-19ac978ab773",
   "metadata": {},
   "source": [
    "## The Three Laws/Axioms of Recursion"
   ]
  },
  {
   "cell_type": "markdown",
   "id": "062aa7d7-7760-4f2f-b6e9-4508580a651f",
   "metadata": {},
   "source": [
    "```{prf:axiom} The Three Laws of Recursion\n",
    ":label: axiom_three_laws_of_recursion\n",
    "\n",
    "1. A recursive algorithm must have a base case.\n",
    "2. A recursive algorithm must change its state and move toward the base case.\n",
    "3. A recursive algorithm must call itself, recursively.\n",
    "```"
   ]
  }
 ],
 "metadata": {
  "kernelspec": {
   "display_name": "Python 3 (ipykernel)",
   "language": "python",
   "name": "python3"
  },
  "language_info": {
   "codemirror_mode": {
    "name": "ipython",
    "version": 3
   },
   "file_extension": ".py",
   "mimetype": "text/x-python",
   "name": "python",
   "nbconvert_exporter": "python",
   "pygments_lexer": "ipython3",
   "version": "3.8.10"
  }
 },
 "nbformat": 4,
 "nbformat_minor": 5
}
