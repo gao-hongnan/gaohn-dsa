{
 "cells": [
  {
   "cell_type": "markdown",
   "id": "74ad8126-f170-428c-964b-667d0404b53b",
   "metadata": {},
   "source": [
    "[![Open in Colab](https://colab.research.google.com/assets/colab-badge.svg)](https://colab.research.google.com/github/reighns92/reighns-ml-blog/blob/master/docs/reighns_ml_journey/data_structures_and_algorithms/Stack.ipynb)"
   ]
  },
  {
   "cell_type": "markdown",
   "id": "f498fdf7-5a20-441b-8032-382549a4dc7a",
   "metadata": {},
   "source": [
    "# Stack"
   ]
  },
  {
   "cell_type": "markdown",
   "id": "fa5c755d-b1e2-4302-b1fb-f567323f39de",
   "metadata": {},
   "source": [
    "## The Stack Abstract Data Type\n",
    "\n",
    "Think of a stack as a stack of plates.\n",
    "\n",
    "Consider eating in a restaurant, all the food are served on plates, every time you\n",
    "finished a plate, you will place it at a place called the \"stacked plate loader\", all stacked on top of one another.\n",
    "\n",
    "The stacked plate loader is initially empty, so we can call it `s = []`, which corresponds to an empty list.\n",
    "We treat the end of the list as the top of the stack.\n",
    "\n",
    "- Once I finished my first plate called `p1`, I will place it in the stack, an operation called `push`, defined by `s.push(p1)`.\n",
    "Now our `s` is no longer empty, as it has `p1` inside now, `s = [p1]`.\n",
    "- I finished another plate called `p2` and placed it on top of the stack, this means we are ***appending*** to the list, since \n",
    "the top of the stack is the end of the list. So now performing `s.push(p2) -> s = [p1, p2]`.\n",
    "- The waiters saw that I have two plates and decided to clear the top most plate `p2`, this operation is defined\n",
    "the operation called `pop`, which ***returns and removes*** the top most item on the stack. Therefore,\n",
    "`s.pop() -> p2` which means `s = [p1]` now.\n",
    "\n",
    "So a stack has two fundamental operations: `push` and `pop`.\n",
    "- `push` operation pushes something on the top of the stack (appending to a list);\n",
    "- `pop` operation returns and removes the top most item from the stack (popping from the list)."
   ]
  },
  {
   "cell_type": "markdown",
   "id": "0de95bdf-6c55-4dec-81da-c127207a5627",
   "metadata": {},
   "source": [
    "```{figure} ../assets/stack_flow.png\n",
    "---\n",
    "name: stack_flow\n",
    "---\n",
    "Stack Flow.\n",
    "```"
   ]
  },
  {
   "cell_type": "markdown",
   "id": "10fd5a36-30c9-4985-82a4-1e6ff8a523de",
   "metadata": {},
   "source": [
    "```{figure} ../assets/stack_diagram.png\n",
    "---\n",
    "height: 400px\n",
    "name: stack_diagram\n",
    "---\n",
    "Stack Diagram.\n",
    "```"
   ]
  },
  {
   "cell_type": "markdown",
   "id": "c22647e6-d3d1-4a85-84b4-168c4ce72e4f",
   "metadata": {},
   "source": [
    "## Python Implementation"
   ]
  },
  {
   "cell_type": "code",
   "execution_count": 2,
   "id": "eea46df6-7fac-4f76-8a2d-20ae80c03afc",
   "metadata": {},
   "outputs": [],
   "source": [
    "from typing import List, Any\n",
    "\n",
    "\n",
    "class StackList:\n",
    "    \"\"\"Creates a stack that uses python's default list as the underlying\n",
    "    data structure.\n",
    "\n",
    "    Attributes:\n",
    "        stack_items (List[Any]): The list that stores the items in the stack.\n",
    "            We treat the end of the list as the top of the stack.\n",
    "    \"\"\"\n",
    "\n",
    "    stack_items: List[Any]\n",
    "\n",
    "    def __init__(self) -> None:\n",
    "        self.stack_items = []\n",
    "\n",
    "    def is_empty(self) -> bool:\n",
    "        \"\"\"Check if stack is empty.\n",
    "\n",
    "        Returns:\n",
    "            (bool): True if stack is empty, False otherwise.\n",
    "        \"\"\"\n",
    "        return self.size == 0\n",
    "\n",
    "    def push(self, item: Any) -> None:\n",
    "        \"\"\"Push an item on top of the stack.\n",
    "\n",
    "        In this implementation, the item is appended to the end of the list.\n",
    "\n",
    "        Args:\n",
    "            item (Any): The current item pushed into the stack.\n",
    "        \"\"\"\n",
    "        self.stack_items.append(item)\n",
    "\n",
    "    def pop(self) -> Any:\n",
    "        \"\"\"Pop an item from the top of the stack.\n",
    "\n",
    "        In this implementation, the item at the end of the list is returned\n",
    "        and removed. We are using the list's pop method to do this.\n",
    "\n",
    "        Raises:\n",
    "            (Exception): If stack is empty.\n",
    "\n",
    "        Returns:\n",
    "            (Any): The top most item in the stack.\n",
    "        \"\"\"\n",
    "        if self.is_empty():\n",
    "            raise Exception(\"Stack is empty\")\n",
    "        return self.stack_items.pop()\n",
    "\n",
    "    def peek(self) -> Any:\n",
    "        \"\"\"Return the top most item in the stack without modifying the stack.\n",
    "\n",
    "        This is different from pop in that it does not remove the item from the\n",
    "        stack.\n",
    "\n",
    "        Returns:\n",
    "            (Any): The top most item in the stack.\n",
    "        \"\"\"\n",
    "        return self.stack_items[-1]\n",
    "\n",
    "    @property\n",
    "    def size(self) -> int:\n",
    "        \"\"\"Return the size of the stack.\n",
    "\n",
    "        Returns:\n",
    "            (int): The size of the stack.\n",
    "        \"\"\"\n",
    "        return len(self.stack_items)"
   ]
  },
  {
   "cell_type": "markdown",
   "id": "bbc9724b-33d7-493e-a6b8-3847fff09dee",
   "metadata": {},
   "source": [
    "We push 4 items in this sequence `4, dog, True, 8.4` and now the \"top\" of the stack is `8.4`.\n",
    "\n",
    "So as we pop them, it goes from `8.4, True, dog, 4`."
   ]
  },
  {
   "cell_type": "code",
   "execution_count": 3,
   "id": "d219bc10-8a81-47a1-9a3f-de21b3df7071",
   "metadata": {},
   "outputs": [
    {
     "name": "stdout",
     "output_type": "stream",
     "text": [
      "True\n",
      "dog\n",
      "3\n",
      "False\n",
      "8.4\n",
      "True\n",
      "2\n"
     ]
    }
   ],
   "source": [
    "s = StackList()\n",
    "\n",
    "print(s.is_empty())\n",
    "s.push(4)\n",
    "s.push(\"dog\")\n",
    "print(s.peek())\n",
    "s.push(True)\n",
    "print(s.size)\n",
    "print(s.is_empty())\n",
    "s.push(8.4)\n",
    "print(s.pop())\n",
    "print(s.pop())\n",
    "print(s.size)"
   ]
  },
  {
   "cell_type": "markdown",
   "id": "7f98b885-82e0-41e0-ad04-88d7a028ea0f",
   "metadata": {},
   "source": [
    "### Time Complexity\n",
    "\n",
    "```{list-table} Time Complexity\n",
    ":header-rows: 1\n",
    ":name: stack\n",
    "\n",
    "* - Operations\n",
    "  - Time Complexity\n",
    "* - `push`\n",
    "  - $\\O(1)$\n",
    "* - `pop`\n",
    "  - $\\O(1)$\n",
    "```\n",
    "\n",
    "The time complexity for both `push` and `pop` are $\\O(1)$, an obvious consequence because the native python\n",
    "`list`'s operations `append` and `pop` are also $\\O(1)$, so the result follows.\n",
    "\n",
    "If you treat the list's start as top of the stack, then you might need to use `insert(0)` and `pop(0)`, and \n",
    "these are $\\O(n)$ operations."
   ]
  },
  {
   "cell_type": "markdown",
   "id": "57a46e86-3315-43c2-b7ff-90c9f42ac74c",
   "metadata": {},
   "source": [
    "### Space Complexity\n",
    "\n",
    "Space complexity: $\\O(n)$. The space required depends on the number of items stored in the list `stack_items`, so if `stack_items` stores up to $n$ items, then space complexity is $\\O(n)$."
   ]
  },
  {
   "cell_type": "markdown",
   "id": "e15416f5-c84d-4a84-bf7c-8a01bb6aa51c",
   "metadata": {},
   "source": [
    "## Reverse String using Stack\n",
    "\n",
    "Write a function `rev_string(my_str)` that uses a stack to reverse the characters in a string."
   ]
  },
  {
   "cell_type": "code",
   "execution_count": 16,
   "id": "c15a9d30-648c-4032-b11d-8c2ede1e13be",
   "metadata": {},
   "outputs": [
    {
     "data": {
      "text/plain": [
       "'gfedcba'"
      ]
     },
     "execution_count": 16,
     "metadata": {},
     "output_type": "execute_result"
    }
   ],
   "source": [
    "my_str = \"abcdefg\"\n",
    "\n",
    "def reverse_string_using_stack(string: str) -> str:\n",
    "    stack = StackList()\n",
    "    reversed_string = \"\"\n",
    "\n",
    "    for s in string:\n",
    "        stack.push(s)\n",
    "\n",
    "    while not stack.is_empty():\n",
    "        reversed_string += stack.pop()\n",
    "\n",
    "    return reversed_string\n",
    "\n",
    "reverse_string_using_stack(my_str)"
   ]
  },
  {
   "cell_type": "markdown",
   "id": "9a37dce9-0557-4f5a-9c41-8848356316ba",
   "metadata": {},
   "source": [
    "## Valid Parentheses"
   ]
  },
  {
   "cell_type": "code",
   "execution_count": 8,
   "id": "1d1a2111-579e-46b6-aee5-862698c401d8",
   "metadata": {},
   "outputs": [],
   "source": [
    "def is_valid_parenthesis(string: str) -> bool:\n",
    "    stack = StackList()\n",
    "\n",
    "    if string[0] == \")\":\n",
    "        return False\n",
    "\n",
    "    for s in string:\n",
    "        if s == \"(\":\n",
    "            stack.push(s)\n",
    "        else:  # s == \")\"\n",
    "            if stack.is_empty():\n",
    "                return False\n",
    "            stack.pop()\n",
    "\n",
    "    if stack.is_empty():\n",
    "        return True\n",
    "    return False\n"
   ]
  },
  {
   "cell_type": "code",
   "execution_count": 9,
   "id": "fd36bea1-c0db-460d-a9df-443f39afbb07",
   "metadata": {},
   "outputs": [
    {
     "name": "stdout",
     "output_type": "stream",
     "text": [
      "False\n",
      "True\n",
      "True\n",
      "False\n",
      "False\n",
      "False\n"
     ]
    }
   ],
   "source": [
    "print(is_valid_parenthesis(\"(\"))  # expected False\n",
    "print(is_valid_parenthesis(\"((()))\"))  # expected True\n",
    "print(is_valid_parenthesis(\"((()()))\"))  # expected True\n",
    "print(is_valid_parenthesis(\"(()\"))  # expected False\n",
    "print(is_valid_parenthesis(\")(\"))  # expected False\n",
    "print(is_valid_parenthesis(\"(()))\"))  # expected False"
   ]
  },
  {
   "cell_type": "code",
   "execution_count": 10,
   "id": "758ae30a-dc8f-4842-a02e-de958ca5fbfc",
   "metadata": {},
   "outputs": [],
   "source": [
    "def is_match_open_parenthesis(stack, string):\n",
    "    if string == \")\" and stack.peek() != \"(\":\n",
    "        return False\n",
    "    elif string == \"]\" and stack.peek() != \"[\":\n",
    "        return False\n",
    "    elif string == \"}\" and stack.peek() != \"{\":\n",
    "        return False\n",
    "    else:\n",
    "        return True\n",
    "\n",
    "\n",
    "def is_valid_parenthesis(string: str) -> bool:\n",
    "    stack = StackList()\n",
    "\n",
    "    if string[0] in [\")\", \"]\", \"}\"]:\n",
    "        return False\n",
    "\n",
    "    for s in string:\n",
    "        if s in [\"(\", \"[\", \"{\"]:\n",
    "            stack.push(s)\n",
    "        else:  # s == \")\"\n",
    "            if stack.is_empty():\n",
    "                return False\n",
    "            if is_match_open_parenthesis(stack, s):\n",
    "                stack.pop()\n",
    "            else:\n",
    "                return False\n",
    "\n",
    "    if stack.is_empty():\n",
    "        return True\n",
    "    return False"
   ]
  },
  {
   "cell_type": "code",
   "execution_count": 12,
   "id": "65ebaa56-67e2-4535-bc10-3f0474b3f386",
   "metadata": {},
   "outputs": [
    {
     "name": "stdout",
     "output_type": "stream",
     "text": [
      "True\n",
      "False\n",
      "True\n"
     ]
    }
   ],
   "source": [
    "print(is_valid_parenthesis('{({([][])}())}'))\n",
    "print(is_valid_parenthesis('[{()]'))\n",
    "print(is_valid_parenthesis('()'))"
   ]
  },
  {
   "cell_type": "code",
   "execution_count": 26,
   "id": "5c14ea81-2fac-4c66-8a86-a2218dee7fad",
   "metadata": {},
   "outputs": [],
   "source": [
    "class Solution:\n",
    "    @staticmethod\n",
    "    def is_match_open_parenthesis(stack, string):\n",
    "        if string == \")\" and stack[-1] != \"(\":\n",
    "            return False\n",
    "        elif string == \"]\" and stack[-1] != \"[\":\n",
    "            return False\n",
    "        elif string == \"}\" and stack[-1] != \"{\":\n",
    "            return False\n",
    "        else:\n",
    "            return True\n",
    "    \n",
    "    def isValid(self, s: str) -> bool:\n",
    "        stack = []\n",
    "\n",
    "        if s[0] in [\")\", \"]\", \"}\"]:\n",
    "            return False\n",
    "\n",
    "        for s_ in s:\n",
    "          \n",
    "            if s_ in [\"(\", \"[\", \"{\"]:\n",
    "                stack.append(s_)\n",
    "            else:  # s == \")\"\n",
    "                if len(stack) == 0:\n",
    "                    return False\n",
    "                if self.is_match_open_parenthesis(stack, s_):\n",
    "                    stack.pop()\n",
    "                else:\n",
    "                    print(\"S\")\n",
    "                    return False\n",
    "        \n",
    "        if len(stack) == 0:\n",
    "            return True\n",
    "        return False\n",
    "        "
   ]
  },
  {
   "cell_type": "code",
   "execution_count": 27,
   "id": "01f466b1-7585-466f-b881-1e410efe3437",
   "metadata": {},
   "outputs": [
    {
     "name": "stdout",
     "output_type": "stream",
     "text": [
      "( []\n",
      ") ['()']\n",
      "()\n",
      "S\n"
     ]
    },
    {
     "data": {
      "text/plain": [
       "False"
      ]
     },
     "execution_count": 27,
     "metadata": {},
     "output_type": "execute_result"
    }
   ],
   "source": [
    "Solution().isValid(\"()\")"
   ]
  },
  {
   "cell_type": "code",
   "execution_count": 28,
   "id": "52731068-d318-4d82-a633-80dc6c642417",
   "metadata": {},
   "outputs": [
    {
     "name": "stdout",
     "output_type": "stream",
     "text": [
      ")\n",
      "]\n",
      "}\n"
     ]
    }
   ],
   "source": [
    "Map = {\")\": \"(\", \"]\": \"[\", \"}\": \"{\"}\n",
    "for i in Map:\n",
    "    print(i)"
   ]
  },
  {
   "cell_type": "code",
   "execution_count": 38,
   "id": "9143faed-31b2-4a8d-adce-e198abf01afb",
   "metadata": {},
   "outputs": [],
   "source": [
    "class Solution:\n",
    "    def isValid(self, s: str) -> bool:\n",
    "        Map = {\")\": \"(\", \"]\": \"[\", \"}\": \"{\"}\n",
    "        stack = []\n",
    "\n",
    "        for c in s:\n",
    "            if c not in Map:\n",
    "                print(c)\n",
    "                stack.append(c)\n",
    "                continue\n",
    "            if not stack or stack[-1] != Map[c]:\n",
    "                return False\n",
    "            stack.pop()\n",
    "\n",
    "        return not stack"
   ]
  },
  {
   "cell_type": "code",
   "execution_count": 39,
   "id": "99ff842a-c994-4bbb-9e12-aa165f028afc",
   "metadata": {},
   "outputs": [
    {
     "name": "stdout",
     "output_type": "stream",
     "text": [
      "{\n",
      "(\n",
      "{\n",
      "(\n",
      "[\n",
      "[\n",
      "(\n"
     ]
    },
    {
     "data": {
      "text/plain": [
       "True"
      ]
     },
     "execution_count": 39,
     "metadata": {},
     "output_type": "execute_result"
    }
   ],
   "source": [
    "Solution().isValid(\"{({([][])}())}\")"
   ]
  },
  {
   "cell_type": "markdown",
   "id": "2867908b-8da1-4cde-bda8-9fd0eb3ee133",
   "metadata": {},
   "source": [
    "## Implementing Stack Using Linked List\n",
    "\n",
    "We need to think a bit little different from list where you easily visualize a list's first and last element as the bottom and top of the stack respectively.\n",
    "\n",
    "For Linked List, you think of a reversed list. That is to say, the `head` node of the Linked List is the **top** of the stack and the last node (not the `None` node) will be the beginning of the stack.\n",
    "\n",
    "Ref: [https://www.geeksforgeeks.org/stack-data-structure-introduction-program/?ref=lbp](https://www.geeksforgeeks.org/stack-data-structure-introduction-program/?ref=lbp)"
   ]
  },
  {
   "cell_type": "markdown",
   "id": "569980cb-5c34-494e-87a8-475b1c4842ce",
   "metadata": {},
   "source": [
    "### Python Implementation"
   ]
  },
  {
   "cell_type": "code",
   "execution_count": 11,
   "id": "3af9ca51-f45e-4d31-9553-cb7f23373aa8",
   "metadata": {},
   "outputs": [],
   "source": [
    "from typing import Optional, Any\n",
    "\n",
    "class LinkedListNode:\n",
    "    \"\"\"\n",
    "    The LinkedListNode object is initialized with a value and can be linked to the next node by setting the next_node attribute to a LinkedListNode object.\n",
    "    This node is Singular associated with Singly Linked List.\n",
    "\n",
    "    Attributes:\n",
    "        curr_node_value (Any): The value associated with the created node.\n",
    "        next_node (LinkedListNode): The next node in the linked list. Note the distinction between curr_node_value and next_node, the former is the value of the node, the latter is the pointer to the next node.\n",
    "\n",
    "    Examples:\n",
    "        >>> node = Node(1)\n",
    "        >>> print(node.curr_node_value)\n",
    "        1\n",
    "        >>> print(node.next_node)\n",
    "        None\n",
    "        >>> node.next_node = Node(2)\n",
    "        >>> print(node.next_node.curr_node_value)\n",
    "        2\n",
    "        >>> print(node.next_node.next_node)\n",
    "        None\n",
    "    \"\"\"\n",
    "\n",
    "    curr_node_value: Any\n",
    "    next_node: Optional[\"LinkedListNode\"]\n",
    "\n",
    "    def __init__(self, curr_node_value: Any = None) -> None:\n",
    "        self.curr_node_value = curr_node_value\n",
    "        self.next_node = None"
   ]
  },
  {
   "cell_type": "code",
   "execution_count": 16,
   "id": "eb09d1d8-6587-4cc2-a330-bc5493ed64bd",
   "metadata": {},
   "outputs": [],
   "source": [
    "class StackLinkedList:\n",
    "    def __init__(self) -> None:\n",
    "        self.head = None  # top of the stack\n",
    "\n",
    "    def is_empty(self) -> bool:\n",
    "        \"\"\"Check if the stack is empty.\n",
    "\n",
    "        The stack is empty if the head is None.\n",
    "\n",
    "        Returns:\n",
    "            bool: True if the stack is empty, False otherwise.\n",
    "        \"\"\"\n",
    "        return self.head is None\n",
    "\n",
    "    def push(self, curr_node_value: Any) -> None:\n",
    "        \"\"\"Push a new node on top of the stack.\n",
    "\n",
    "        # if push a value say 10 inside,, then the new node will be the head of the stack.\n",
    "        # if push another value say 20 inside, then the 20 will be the head of the stack.\n",
    "        # everytime you push a value it must be the pushed node become head.\n",
    "        # so if you push 10, 20, 30, then it must be 30 -> 20 -> 10 -> None.\n",
    "        # so think of base case if push 10 what happens?\n",
    "        # as usual the logic is:\n",
    "            - Start with the base case self.head to be None first, this will keep incrementing as we push more values.\n",
    "            - Create a new node with the value of curr_node_value whenever a new value is pushed.\n",
    "            - If we push in a 10, the newly_pushed_node holds the value of 10.\n",
    "            - We set newly_pushed_node.next_node to become self.head so now newly_pushed_node becomes 10 -> None.\n",
    "            - Now set self.head to be the newly_pushed_node so next time we push another value, it will be new_value -> 10 -> None.\n",
    "            - If we push in a 20, the newly_pushed_node variables holds 20.\n",
    "            - We set newly_pushed_node.next_node to become self.head so now newly_pushed_node becomes 20 -> (10 -> None).\n",
    "            - The logic continues.\n",
    "\n",
    "        Args:\n",
    "            curr_node_value (Any): The current item (node) pushed into the stack.\n",
    "        \"\"\"\n",
    "\n",
    "        newly_pushed_node = LinkedListNode(curr_node_value)\n",
    "        newly_pushed_node.next_node = self.head\n",
    "        self.head = newly_pushed_node\n",
    "        print(f\"Pushed {curr_node_value} onto the stack\")\n",
    "\n",
    "    def pop(self) -> Any:\n",
    "        \"\"\"Pop an item from the top of the stack.\n",
    "\n",
    "        In this implementation, the item at the head of the Linked List is returned and removed.\n",
    "\n",
    "        # logic is pop the head and it can always work since whenever you access self.head, the current value it holds is the first value and also the top of the stack.\n",
    "        # - popped_node: set to self.head.\n",
    "        # - self.head: set to self.head.next_node which is akin to removing the head and now the next value is the new head.\n",
    "        # - popped_value: this is the current node value of popped_node.\n",
    "\n",
    "        Raises:\n",
    "            Exception: If stack is empty.\n",
    "\n",
    "        Returns:\n",
    "            Any: The top most item in the stack.\n",
    "        \"\"\"\n",
    "\n",
    "        if self.is_empty():\n",
    "            raise Exception(\"Stack is empty\")\n",
    "\n",
    "        popped_node = self.head\n",
    "        self.head = self.head.next_node\n",
    "        popped_value = popped_node.curr_node_value\n",
    "        print(f\"Popped {popped_value} from the stack\")\n",
    "        \n",
    "        return popped_value\n",
    "\n",
    "    def peek(self) -> Any:\n",
    "        \"\"\"Peek at the top of the stack.\n",
    "\n",
    "        In this implementation, the item at the head of the Linked List is returned.\n",
    "\n",
    "        Raises:\n",
    "            Exception: If stack is empty.\n",
    "\n",
    "        Returns:\n",
    "            Any: The top most item in the stack.\n",
    "        \"\"\"\n",
    "\n",
    "        if self.is_empty():\n",
    "            raise Exception(\"Stack is empty\")\n",
    "\n",
    "        return self.head.curr_node_value"
   ]
  },
  {
   "cell_type": "code",
   "execution_count": 18,
   "id": "58c19b89-ab42-4867-8250-d290c821fa0f",
   "metadata": {},
   "outputs": [
    {
     "name": "stdout",
     "output_type": "stream",
     "text": [
      "Pushed 10 onto the stack\n",
      "Pushed 20 onto the stack\n",
      "Pushed 30 onto the stack\n",
      "Popped 30 from the stack\n"
     ]
    }
   ],
   "source": [
    "# Driver code\n",
    "stack = StackLinkedList()\n",
    "stack.push(10)\n",
    "stack.push(20)\n",
    "stack.push(30)\n",
    "_ = stack.pop()"
   ]
  },
  {
   "cell_type": "markdown",
   "id": "2122fe63-e6fe-49ba-82b6-d194c0353fc8",
   "metadata": {},
   "source": [
    "### Time Complexity\n",
    "\n",
    "Time complexity: $\\O(1)$ for both `push` and `pop` as no **traversal** is involved."
   ]
  },
  {
   "cell_type": "markdown",
   "id": "d042e54c-06fc-4493-8e67-f3815825bffa",
   "metadata": {},
   "source": [
    "### Space Complexity\n",
    "\n",
    "Space complexity: $\\O(n)$. The space required depends on the number of items stored in the list `stack_items`, so if `stack_items` stores up to $n$ items, then space complexity is $\\O(n)$."
   ]
  },
  {
   "cell_type": "markdown",
   "id": "dddc7856-701a-42a9-ad8c-8057209713fd",
   "metadata": {},
   "source": [
    "## Further Readings\n",
    "\n",
    "- https://www.geeksforgeeks.org/introduction-to-stack-data-structure-and-algorithm-tutorials/?ref=lbp\n",
    "- https://runestone.academy/ns/books/published/pythonds3/BasicDS/TheStackAbstractDataType.html"
   ]
  }
 ],
 "metadata": {
  "kernelspec": {
   "display_name": "Python 3 (ipykernel)",
   "language": "python",
   "name": "python3"
  },
  "language_info": {
   "codemirror_mode": {
    "name": "ipython",
    "version": 3
   },
   "file_extension": ".py",
   "mimetype": "text/x-python",
   "name": "python",
   "nbconvert_exporter": "python",
   "pygments_lexer": "ipython3",
   "version": "3.8.10"
  }
 },
 "nbformat": 4,
 "nbformat_minor": 5
}
