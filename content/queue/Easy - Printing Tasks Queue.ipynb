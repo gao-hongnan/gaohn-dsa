{
 "cells": [
  {
   "cell_type": "markdown",
   "id": "2f5126d3-e130-4176-b6aa-dde5d2363993",
   "metadata": {},
   "source": [
    "# Easy - Printing Tasks"
   ]
  },
  {
   "cell_type": "code",
   "execution_count": 1,
   "id": "d4d8398b-ddce-4b98-91e6-0dda33da058d",
   "metadata": {
    "tags": [
     "remove-cell"
    ]
   },
   "outputs": [],
   "source": [
    "import sys\n",
    "from pathlib import Path\n",
    "parent_dir = str(Path().resolve().parent.parent)\n",
    "sys.path.append(parent_dir)"
   ]
  },
  {
   "cell_type": "code",
   "execution_count": 2,
   "id": "48eb9d42-6602-4f1c-a83f-6f35bca74b19",
   "metadata": {},
   "outputs": [],
   "source": [
    "from dataclasses import dataclass, field\n",
    "from typing import Any, List\n",
    "\n",
    "from dsa.queue import QueueList"
   ]
  },
  {
   "cell_type": "markdown",
   "id": "f4bad403-452e-4325-b193-061a1757eb0c",
   "metadata": {
    "tags": []
   },
   "source": [
    "## Problem\n",
    "\n",
    "[Question details can be found here](https://runestone.academy/ns/books/published/pythonds3/BasicDS/SimulationPrintingTasks.html)."
   ]
  },
  {
   "cell_type": "markdown",
   "id": "dab7d73c-28c9-4d04-b4e8-b3fe374805a8",
   "metadata": {},
   "source": [
    "## Constraints and Assumptions"
   ]
  },
  {
   "cell_type": "markdown",
   "id": "81916259-e079-42bc-9111-455ff3befeaa",
   "metadata": {},
   "source": [
    "## Implementation"
   ]
  },
  {
   "cell_type": "markdown",
   "id": "4a9e0291-df03-4b22-9d9a-39689a2676f0",
   "metadata": {},
   "source": [
    "## Time Complexity"
   ]
  },
  {
   "cell_type": "markdown",
   "id": "4d40dea4-9dc5-4d2c-9df4-73b4eb636bb6",
   "metadata": {},
   "source": [
    "## Space Complexity"
   ]
  }
 ],
 "metadata": {
  "kernelspec": {
   "display_name": "Python 3 (ipykernel)",
   "language": "python",
   "name": "python3"
  },
  "language_info": {
   "codemirror_mode": {
    "name": "ipython",
    "version": 3
   },
   "file_extension": ".py",
   "mimetype": "text/x-python",
   "name": "python",
   "nbconvert_exporter": "python",
   "pygments_lexer": "ipython3",
   "version": "3.8.10"
  }
 },
 "nbformat": 4,
 "nbformat_minor": 5
}
