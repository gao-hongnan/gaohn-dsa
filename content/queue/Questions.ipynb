{
 "cells": [
  {
   "cell_type": "markdown",
   "id": "2f5126d3-e130-4176-b6aa-dde5d2363993",
   "metadata": {},
   "source": [
    "# Questions"
   ]
  },
  {
   "cell_type": "code",
   "execution_count": 1,
   "id": "d4d8398b-ddce-4b98-91e6-0dda33da058d",
   "metadata": {},
   "outputs": [],
   "source": [
    "import sys\n",
    "from pathlib import Path\n",
    "parent_dir = str(Path().resolve().parent.parent)\n",
    "sys.path.append(parent_dir)"
   ]
  },
  {
   "cell_type": "code",
   "execution_count": 2,
   "id": "48eb9d42-6602-4f1c-a83f-6f35bca74b19",
   "metadata": {},
   "outputs": [],
   "source": [
    "from dsa.dsa import QueueList\n",
    "from typing import List, Any"
   ]
  },
  {
   "cell_type": "markdown",
   "id": "f4bad403-452e-4325-b193-061a1757eb0c",
   "metadata": {},
   "source": [
    "## Hot Potatoes\n",
    "\n",
    "[Question details can be found here](https://runestone.academy/ns/books/published/pythonds3/BasicDS/SimulationHotPotato.html)."
   ]
  },
  {
   "cell_type": "markdown",
   "id": "dfa86bf6-a38c-4419-a14a-82871dae52f3",
   "metadata": {},
   "source": [
    "- `num = 5` means when the counter reaches 5, the person holding the potato will be eliminated.\n",
    "- d, c, b, a (a is the first in queue and he holds the potato, counter starts at 0)\n",
    "- a, d, c, b (b holds the potato, counter is 1)\n",
    "- b, a, d, c (c holds the potato, counter is 2)\n",
    "- c, b, a, d (d holds the potato, counter is 3)\n",
    "- d, c, b, a (a holds the potato, counter is 4)\n",
    "- a, d, c, b (b holds the potato, counter is 5, b is eliminated)"
   ]
  },
  {
   "cell_type": "markdown",
   "id": "56edc02b-5085-4c78-9549-ce3b8fd27b3a",
   "metadata": {},
   "source": [
    "```{figure} ../assets/hot_potato.jpg\n",
    "---\n",
    "name: hot_potato\n",
    "---\n",
    "Hot Potato elimination diagram, with 4 people and num set to 5.\n",
    "```"
   ]
  },
  {
   "cell_type": "code",
   "execution_count": 3,
   "id": "84ff5664-6417-42d6-8b05-e7e0e000db24",
   "metadata": {},
   "outputs": [],
   "source": [
    "def hot_potato(names: List[str], num: int) -> str:\n",
    "    counter = 0\n",
    "    q = QueueList()\n",
    "\n",
    "    for name in names:\n",
    "        q.enqueue(name)\n",
    "\n",
    "    while q.size > 1:\n",
    "        first_in_q = q.dequeue()\n",
    "        q.enqueue(first_in_q)\n",
    "\n",
    "        counter += 1\n",
    "\n",
    "        if counter == num:\n",
    "            q.dequeue()\n",
    "            counter = 0  # reset\n",
    "\n",
    "    return q.dequeue()"
   ]
  },
  {
   "cell_type": "markdown",
   "id": "b246d53e-4e84-40b6-9b2e-ce76d8f38c34",
   "metadata": {},
   "source": [
    "Note `[\"Bill\", \"David\", \"Susan\", \"Jane\"]` means Bill is first in queue."
   ]
  },
  {
   "cell_type": "code",
   "execution_count": 4,
   "id": "aee5ff05-ddd0-4a30-b0ad-29b92a935ca5",
   "metadata": {},
   "outputs": [
    {
     "name": "stdout",
     "output_type": "stream",
     "text": [
      "Susan\n"
     ]
    }
   ],
   "source": [
    "print(hot_potato([\"Bill\", \"David\", \"Susan\", \"Jane\"], 5))"
   ]
  }
 ],
 "metadata": {
  "kernelspec": {
   "display_name": "Python 3 (ipykernel)",
   "language": "python",
   "name": "python3"
  },
  "language_info": {
   "codemirror_mode": {
    "name": "ipython",
    "version": 3
   },
   "file_extension": ".py",
   "mimetype": "text/x-python",
   "name": "python",
   "nbconvert_exporter": "python",
   "pygments_lexer": "ipython3",
   "version": "3.8.10"
  }
 },
 "nbformat": 4,
 "nbformat_minor": 5
}
