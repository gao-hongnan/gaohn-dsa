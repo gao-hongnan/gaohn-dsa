{
 "cells": [
  {
   "cell_type": "markdown",
   "id": "f8a705c1-123d-43aa-abcd-c68bb80fd48d",
   "metadata": {},
   "source": [
    "# Linked List"
   ]
  },
  {
   "cell_type": "markdown",
   "id": "fc06d5f3-b8e9-48af-a381-80de08ce0970",
   "metadata": {},
   "source": [
    "[![Open in Colab](https://colab.research.google.com/assets/colab-badge.svg)](https://colab.research.google.com/github/reighns92/reighns-ml-blog/blob/master/docs/reighns_ml_journey/data_structures_and_algorithms/Linked%20List.ipynb)"
   ]
  },
  {
   "cell_type": "code",
   "execution_count": 2,
   "id": "d5c1ae4a-84c5-468b-88e5-5d2177b6d00e",
   "metadata": {},
   "outputs": [],
   "source": [
    "from __future__ import annotations\n",
    "\n",
    "from dataclasses import dataclass\n",
    "from typing import Generic, TypeVar\n",
    "\n",
    "T = TypeVar(\"T\")"
   ]
  },
  {
   "cell_type": "markdown",
   "id": "92822e08-51d7-47fd-a534-316204ca6d1c",
   "metadata": {},
   "source": [
    "## Node Object\n",
    "\n",
    "We create the `Node` object below."
   ]
  },
  {
   "cell_type": "code",
   "execution_count": 3,
   "id": "5f31941d-f9f2-43dc-8879-bc1e95ceeeb6",
   "metadata": {},
   "outputs": [],
   "source": [
    "@dataclass(frozen=False, init=True)\n",
    "class Node(Generic[T]):\n",
    "    curr_node_value: T\n",
    "    next_node: Node = None"
   ]
  },
  {
   "cell_type": "markdown",
   "id": "0fcde3ab-714c-458a-bc02-4cf40acd0d7a",
   "metadata": {},
   "source": [
    "One thing for me to visualize is the `Node` object is not just a single object. \n",
    "\n",
    "If the `Node` object holds a single node, then our node object should hold a `curr_node_value` and the `next_node` attribute should point to `None`.\n",
    "\n",
    "If the `Node` object holds more than one node, then we can imagine the whole `Node` object as a **series of nodes**. We can only access the nodes **sequentially**, starting from the first node. \n",
    "\n",
    "<img src=\"https://storage.googleapis.com/reighns/reighns_ml_projects/docs/data_structures_and_algorithms/linked_list/nodes.png\" style=\"margin-left:auto; margin-right:auto\"/>\n",
    "<p style=\"text-align: center\">\n",
    "    <b>Node object with 1 node and 2 nodes, respectively.</b>\n",
    "</p>"
   ]
  },
  {
   "cell_type": "markdown",
   "id": "40523bef-dc48-49d6-a14b-f195f6daec82",
   "metadata": {},
   "source": [
    "Create a `Node` object with a single value 1."
   ]
  },
  {
   "cell_type": "code",
   "execution_count": 4,
   "id": "6aea0c22-4c29-40ef-8248-06be1384089a",
   "metadata": {},
   "outputs": [
    {
     "name": "stdout",
     "output_type": "stream",
     "text": [
      "1\n",
      "None\n"
     ]
    }
   ],
   "source": [
    "node = Node(1)\n",
    "print(node.curr_node_value)\n",
    "print(node.next_node)"
   ]
  },
  {
   "cell_type": "markdown",
   "id": "2a9e0e90-320e-4fe6-a531-8727a1baa566",
   "metadata": {},
   "source": [
    "Assign another value to the next node of the `Node` object, now this `Node` has 2 values."
   ]
  },
  {
   "cell_type": "code",
   "execution_count": 5,
   "id": "5f739ecc-412b-4a02-b392-07bb1aea8fa3",
   "metadata": {},
   "outputs": [
    {
     "name": "stdout",
     "output_type": "stream",
     "text": [
      "2\n",
      "None\n"
     ]
    }
   ],
   "source": [
    "node.next_node = Node(2)\n",
    "print(node.next_node.curr_node_value)\n",
    "print(node.next_node.next_node)"
   ]
  },
  {
   "cell_type": "markdown",
   "id": "fdbd87da-6158-45f5-82fb-98c009927f77",
   "metadata": {},
   "source": [
    "## Singly Linked List"
   ]
  },
  {
   "cell_type": "markdown",
   "id": "26a5b169-1b80-4bb5-b0be-a58a4ab42b26",
   "metadata": {},
   "source": [
    "### Base Class"
   ]
  },
  {
   "cell_type": "markdown",
   "id": "7e68ba3c-0aa8-423b-b1ee-7eaf61c843cd",
   "metadata": {},
   "source": [
    "The `head` node (the first node) of a **Linked List** is of a `Node` object. \n",
    "\n",
    "The `head` **entirely determines** the entirety of the whole **Linked List**. Why?\n",
    "\n",
    "Because knowing the head node of the **Linked List**, we will be able to know every single node that comes after it sequentially (if exists)."
   ]
  },
  {
   "cell_type": "code",
   "execution_count": 6,
   "id": "9c71f9c3-aae8-47f9-be29-08d984172bb8",
   "metadata": {},
   "outputs": [],
   "source": [
    "class SinglyLinkedList:\n",
    "    head: Node\n",
    "\n",
    "    def __init__(self) -> None:\n",
    "        self.head = None\n",
    "        \n",
    "    def is_empty(self) -> bool:\n",
    "        return self.head is None"
   ]
  },
  {
   "cell_type": "markdown",
   "id": "ac7987a5-53b4-4694-a651-d225ea5deb92",
   "metadata": {},
   "source": [
    "Let us walk through how to add items to a **Linked List**.\n",
    "\n",
    "1. Start with an empty linked list object. The head of the linked list is None."
   ]
  },
  {
   "cell_type": "code",
   "execution_count": 7,
   "id": "5d56b1c8-d576-4767-b495-872b3b6b0bf3",
   "metadata": {},
   "outputs": [],
   "source": [
    "# 1\n",
    "llist = SinglyLinkedList()"
   ]
  },
  {
   "cell_type": "markdown",
   "id": "f22e5c25-762b-4b7f-ab1d-b322e0e0f67f",
   "metadata": {},
   "source": [
    "2. We create 3 individual `Node` objects as of now, these 3 node object holds value of 1, 2 and 3 respectively. They are not linked, which can be verified by printing `.next` which returns `None`."
   ]
  },
  {
   "cell_type": "code",
   "execution_count": 8,
   "id": "2b5277f7-398f-4aba-a240-50c14e768dc5",
   "metadata": {},
   "outputs": [],
   "source": [
    "# 2\n",
    "first_node= Node(1)\n",
    "second_node = Node(2)\n",
    "third_node = Node(3)"
   ]
  },
  {
   "cell_type": "markdown",
   "id": "f18c69e1-7dc5-4c32-afb4-ee7cec384e33",
   "metadata": {},
   "source": [
    "3. Now we assign the first node object `first_node = Node(1)` to the `head` attribute of the `llist` object. We further note that both `first_node` and `llist.head` now point to the same object and both are of type `Node` and each of them holds a `value` of $1$. We also have to be clear that we did not link the head (first) node to the next (second) node yet.\n",
    "\n",
    "    $$\n",
    "    \\textbf{first_node} \\to \\textbf{None}\n",
    "    $$\n"
   ]
  },
  {
   "cell_type": "code",
   "execution_count": 9,
   "id": "019f6439-551c-4cba-bae5-a89f8f374fba",
   "metadata": {},
   "outputs": [
    {
     "name": "stdout",
     "output_type": "stream",
     "text": [
      "Node(curr_node_value=1, next_node=None)\n"
     ]
    }
   ],
   "source": [
    "# 3\n",
    "llist.head = first_node\n",
    "\n",
    "print(llist.head)\n",
    "\n",
    "assert id(llist.head) == id(first_node)\n",
    "assert isinstance(llist.head, Node) == isinstance(first_node, Node)\n",
    "assert llist.head.curr_node_value == first_node.curr_node_value == 1"
   ]
  },
  {
   "cell_type": "markdown",
   "id": "d29d5a80-26b0-4921-8793-2b99325c6ade",
   "metadata": {},
   "source": [
    "4. We now link the first node with the second by populating the `next_node` attribute of the `head` of the linked list `llist` (i.e. `llist.head.next_node = second_node`).\n",
    "\n",
    "    We further note that both `llist.head.next_node` and `second_node` now point to the same object and both are of type `Node` and each of them holds a `curr_node_value` of $2$.\n",
    "\n",
    "    Now the linked list `llist` has connected the first node and the second node in a linear fashion: \n",
    "\n",
    "    $$\n",
    "    \\textbf{first_node} \\to \\textbf{second_node} \\to \\textbf{None}\n",
    "    $$\n",
    "\n",
    "    So to reiterate, our linked list `llist` at this stage is akin to a list `[1, 2]`. To access the first value of the linked list we can do `llist.head.curr_node_value` and to get the next value we can call `llist.head.next_node.curr_node_value`.\n",
    "   "
   ]
  },
  {
   "cell_type": "code",
   "execution_count": 10,
   "id": "2ff507b3-d5b4-49df-82c5-54cf57972486",
   "metadata": {},
   "outputs": [
    {
     "name": "stdout",
     "output_type": "stream",
     "text": [
      "Node(curr_node_value=1, next_node=Node(curr_node_value=2, next_node=None))\n"
     ]
    }
   ],
   "source": [
    "# 4\n",
    "llist.head.next_node = second_node; # Link first node with second\n",
    "\n",
    "print(llist.head)\n",
    "\n",
    "assert id(llist.head.next_node) == id(second_node)\n",
    "assert isinstance(llist.head.next_node, Node) == isinstance(second_node, Node)\n",
    "assert llist.head.next_node.curr_node_value == second_node.curr_node_value == 2"
   ]
  },
  {
   "cell_type": "markdown",
   "id": "22e4416c-f823-490c-8d12-08b16b16ebce",
   "metadata": {},
   "source": [
    "5. We now link the second node with the third by populating the `next_node` attribute of the second node of the linked list `llist`, but to do so, we must actually reach the second node. (i.e. `llist.head.next_node.next_node = third_node`).\n",
    "\n",
    "    We further note that both `llist.head.next_node.next_node` and `third_node` now point to the same object and both are of type `Node` and each of them holds a `curr_node_value` of $3$.\n",
    "\n",
    "    Now the linked list `llist` has connected the second node and the third node in a linear fashion: \n",
    "\n",
    "    $$\n",
    "    \\textbf{first_node} \\to \\textbf{second_node} \\to \\textbf{third_node} \\to \\textbf{None}\n",
    "    $$\n",
    "\n",
    "    So to reiterate, our linked list `llist` at this stage is akin to a list `[1, 2, 3]`. To access the first value of the linked list we can do `llist.head.curr_node_value` and to get the next value we can call `llist.head.next_node.curr_node_value` and to get the third value, `llist.head.next_node.next_node.value`. There should be no confusion why we can chain attribute `next_node` here, since `llist.head.next_node` and `llist.head.next_node.next_node` are two different `Node` objects, so there won't be any overwriting of the `next_node` attribute."
   ]
  },
  {
   "cell_type": "code",
   "execution_count": 11,
   "id": "05679e47-40b3-465d-aed2-1cb2a6b93c4c",
   "metadata": {},
   "outputs": [
    {
     "name": "stdout",
     "output_type": "stream",
     "text": [
      "Node(curr_node_value=1, next_node=Node(curr_node_value=2, next_node=Node(curr_node_value=3, next_node=None)))\n"
     ]
    }
   ],
   "source": [
    "# 5\n",
    "llist.head.next_node.next_node = third_node; # Link second node with the third node\n",
    "\n",
    "print(llist.head)\n",
    "\n",
    "assert id(llist.head.next_node.next_node) == id(third_node)\n",
    "assert isinstance(llist.head.next_node.next_node, Node) == isinstance(third_node, Node)\n",
    "assert llist.head.next_node.next_node.curr_node_value == third_node.curr_node_value == 3"
   ]
  },
  {
   "cell_type": "markdown",
   "id": "117bb6ff-c44d-4abf-8061-5ee9c44198fe",
   "metadata": {},
   "source": [
    "### Append using Head and Temp Node Pointers"
   ]
  },
  {
   "cell_type": "markdown",
   "id": "0321bd8a-0dfb-4de4-bfc2-65c01d8b5f99",
   "metadata": {},
   "source": [
    "Adding 3 nodes seems already quite tedious, we basically have to call `next_node`\n",
    "twice on top of the `head` to get a linked list of `1 -> 2 -> 3 -> None`."
   ]
  },
  {
   "cell_type": "code",
   "execution_count": 12,
   "id": "a96c33c4-3d82-4475-807e-37604ed1731a",
   "metadata": {},
   "outputs": [
    {
     "name": "stdout",
     "output_type": "stream",
     "text": [
      "Node(curr_node_value=1, next_node=Node(curr_node_value=2, next_node=Node(curr_node_value=3, next_node=None)))\n"
     ]
    }
   ],
   "source": [
    "first = Node(1)\n",
    "second = Node(2)\n",
    "third = Node(3)\n",
    "ll = SinglyLinkedList()\n",
    "ll.head = first\n",
    "ll.head.next_node = second\n",
    "ll.head.next_node.next_node = third\n",
    "\n",
    "print(ll.head)"
   ]
  },
  {
   "cell_type": "markdown",
   "id": "c3406c6d-03aa-42cf-9bb7-1be12132adb2",
   "metadata": {},
   "source": [
    "#### Confusion of Temp Pointer"
   ]
  },
  {
   "cell_type": "markdown",
   "id": "69b495f7-f292-4128-8b4b-a918a1c50745",
   "metadata": {},
   "source": [
    "We show how we can use a `temp` node that initially points to `head`, and how after traversing, \n",
    "the `head` will get updated with the desired node."
   ]
  },
  {
   "cell_type": "markdown",
   "id": "38234bbc-6ada-4d92-afee-034566c8af69",
   "metadata": {},
   "source": [
    "Let's define a linked list with `1 -> 2 -> None` and we add 3 to it."
   ]
  },
  {
   "cell_type": "code",
   "execution_count": 13,
   "id": "094f23fa-a4c1-426e-941b-8a4e82a17aad",
   "metadata": {},
   "outputs": [
    {
     "name": "stdout",
     "output_type": "stream",
     "text": [
      "head          :    Node(curr_node_value=1, next_node=Node(curr_node_value=2, next_node=Node(curr_node_value=3, next_node=None))), \n",
      "temp_node     :    Node(curr_node_value=2, next_node=Node(curr_node_value=3, next_node=None))\n",
      "1941693338000 1941693337712 1941693337712\n"
     ]
    }
   ],
   "source": [
    "first = Node(1)\n",
    "second = Node(2)\n",
    "third = Node(3)\n",
    "\n",
    "ll = SinglyLinkedList()\n",
    "ll.head = first\n",
    "ll.head.next_node = second\n",
    "\n",
    "temp_node = ll.head  # ll.head and temp has 1 -> 2 -> None\n",
    "\n",
    "# if we want to add 3, we can do\n",
    "# ll.head.next_node.next_node = third\n",
    "# or we can do it on temp.\n",
    "\n",
    "temp_node = temp_node.next_node  # temp_node is now 2 -> None and is ll.head.next_node\n",
    "temp_node.next_node = third  # this is equivalent to ll.head.next_node.next_node = third\n",
    "assert temp_node.next_node == ll.head.next_node.next_node # so this is equals to ll.head.next_node.next_node = third\n",
    "# print(id(ll.head), id(temp_node), id(ll.head.next_node)) will indicate that they are the same.\n",
    "\n",
    "# Note we just traverse once since our end goal is for temp_node to be the last node.\n",
    "\n",
    "print(f\"head          :    {ll.head}, \\ntemp_node     :    {temp_node}\")\n",
    "print(id(ll.head), id(temp_node), id(ll.head.next_node))"
   ]
  },
  {
   "cell_type": "markdown",
   "id": "98c899eb-49e0-409a-b6f6-fbc0dee9d613",
   "metadata": {},
   "source": [
    "Let's define a linked list with `1 -> 2 -> 3 -> None` and we add 4 to it."
   ]
  },
  {
   "cell_type": "code",
   "execution_count": 14,
   "id": "e75e38c7-3765-4843-bddc-897cc271701f",
   "metadata": {},
   "outputs": [
    {
     "name": "stdout",
     "output_type": "stream",
     "text": [
      "Node(curr_node_value=3, next_node=None)\n",
      "head          :    Node(curr_node_value=1, next_node=Node(curr_node_value=2, next_node=Node(curr_node_value=3, next_node=Node(curr_node_value=4, next_node=None)))), \n",
      "temp_node     :    Node(curr_node_value=3, next_node=Node(curr_node_value=4, next_node=None))\n",
      "1941693483040 1941693482608 1941693482608\n"
     ]
    }
   ],
   "source": [
    "first = Node(1)\n",
    "second = Node(2)\n",
    "third = Node(3)\n",
    "fourth = Node(4)\n",
    "\n",
    "ll = SinglyLinkedList()\n",
    "ll.head = first\n",
    "ll.head.next_node = second\n",
    "ll.head.next_node.next_node = third\n",
    "\n",
    "temp_node = ll.head # temp has 1 -> 2 -> 3 -> None\n",
    "\n",
    "# add 4, we just traverse twice to reach the end\n",
    "\n",
    "temp_node = temp_node.next_node # ll.head.next_node\n",
    "temp_node = temp_node.next_node # ll.head.next_node.next_node\n",
    "print(temp_node)\n",
    "\n",
    "temp_node.next_node = fourth # ll.head.next_node.next_node.next_node = fourth!\n",
    "\n",
    "print(f\"head          :    {ll.head}, \\ntemp_node     :    {temp_node}\")\n",
    "print(id(ll.head), id(temp_node), id(ll.head.next_node.next_node))"
   ]
  },
  {
   "cell_type": "markdown",
   "id": "787281c1-f9a6-4079-8431-e67112fd9a4d",
   "metadata": {},
   "source": [
    "Note we traversed twice now since we need to two steps for `temp_node` to reach `Node(curr_node_value=3, next_node=None)`.\n",
    "\n",
    "One important thing to realize is that assigning attribute to `temp_node` will change `head` too."
   ]
  },
  {
   "cell_type": "markdown",
   "id": "18687ba6-f466-43fe-8d75-bb74a0342012",
   "metadata": {},
   "source": [
    "You also need the temporary `temp` because if you just use `head` directly, then the `head` will be forever lost."
   ]
  },
  {
   "cell_type": "code",
   "execution_count": 15,
   "id": "0dbf58d0-e536-4a12-8e87-69e232045428",
   "metadata": {},
   "outputs": [
    {
     "name": "stdout",
     "output_type": "stream",
     "text": [
      "head          :    Node(curr_node_value=2, next_node=Node(curr_node_value=3, next_node=None))\n"
     ]
    }
   ],
   "source": [
    "first = Node(1)\n",
    "second = Node(2)\n",
    "third = Node(3)\n",
    "\n",
    "ll = SinglyLinkedList()\n",
    "ll.head = first\n",
    "ll.head.next_node = second\n",
    "\n",
    "# if we want to add 3, we can do\n",
    "# ll.head.next_node.next_node = third\n",
    "# or we can do it on temp.\n",
    "\n",
    "ll.head = ll.head.next_node  # temp_node is now 2 -> None and is ll.head.next_node\n",
    "ll.head.next_node = third  # this is equivalent to ll.head.next_node.next_node = third\n",
    "\n",
    "# Note we just traverse once since our end goal is for temp_node to be the last node.\n",
    "\n",
    "print(f\"head          :    {ll.head}\")"
   ]
  },
  {
   "cell_type": "markdown",
   "id": "f3748d62-06e7-403f-a5c0-d21a9cf21194",
   "metadata": {},
   "source": [
    "#### Append"
   ]
  },
  {
   "cell_type": "markdown",
   "id": "2138292d-7cc6-4c62-bbce-3ab52bf391e4",
   "metadata": {},
   "source": [
    "We first write an `append` method, which adds individual nodes to a linked list's head, eventually, we\n",
    "can create another method called `add_multiple_nodes` which can call `append` multiple times.\n",
    "\n",
    "We package our logic above into an `append` method below.\n",
    "\n",
    "The key here is we keep track a `temp_node` that points to `head`, and traverse\n",
    "`temp_node` all the way to the last node.\n",
    "\n",
    "Lastly, we assign `temp_node.next_node = new_node` so that our `head` is updated."
   ]
  },
  {
   "cell_type": "code",
   "execution_count": 92,
   "id": "00c02e70-a5f6-4a66-86ec-08530e7682c6",
   "metadata": {},
   "outputs": [],
   "source": [
    "class SinglyLinkedList:\n",
    "    head: Node\n",
    "\n",
    "    def __init__(self) -> None:\n",
    "        self.head = None\n",
    "        \n",
    "    def append(self, node_value: T) -> None:\n",
    "        new_node = Node(node_value)\n",
    "        \n",
    "        if self.is_empty():\n",
    "            self.head = new_node\n",
    "            return\n",
    "\n",
    "        # the head defines the whole linked list 1->2->3->None\n",
    "        temp_node = self.head  # temp_node is now pointing to the first node Node(1)\n",
    "        while temp_node.next_node is not None:\n",
    "            print(temp_node)\n",
    "            temp_node = temp_node.next_node\n",
    "            print(temp_node)\n",
    "\n",
    "        temp_node.next_node = new_node\n",
    "        \n",
    "    def is_empty(self) -> bool:\n",
    "        return self.head is None"
   ]
  },
  {
   "cell_type": "code",
   "execution_count": 93,
   "id": "278da8b9-6fff-49d7-94a9-48fd4dcee41c",
   "metadata": {},
   "outputs": [
    {
     "name": "stdout",
     "output_type": "stream",
     "text": [
      "Node(curr_node_value=1, next_node=Node(curr_node_value=2, next_node=None))\n",
      "Node(curr_node_value=2, next_node=None)\n",
      "Node(curr_node_value=1, next_node=Node(curr_node_value=2, next_node=Node(curr_node_value=3, next_node=None)))\n",
      "Node(curr_node_value=2, next_node=Node(curr_node_value=3, next_node=None))\n",
      "Node(curr_node_value=2, next_node=Node(curr_node_value=3, next_node=None))\n",
      "Node(curr_node_value=3, next_node=None)\n",
      "Node(curr_node_value=1, next_node=Node(curr_node_value=2, next_node=Node(curr_node_value=3, next_node=Node(curr_node_value=4, next_node=None))))\n"
     ]
    }
   ],
   "source": [
    "first = Node(1)\n",
    "second = 2\n",
    "third = 3\n",
    "fourth  = 4\n",
    "\n",
    "ll = SinglyLinkedList()\n",
    "ll.head = first\n",
    "ll.append(second)\n",
    "ll.append(third)\n",
    "ll.append(fourth)\n",
    "\n",
    "print(ll.head)"
   ]
  },
  {
   "cell_type": "markdown",
   "id": "97cfab8e-ba89-4739-914f-596c7c4e9936",
   "metadata": {},
   "source": [
    "### Traversing a Linked List"
   ]
  },
  {
   "cell_type": "markdown",
   "id": "85d5a585-2636-412e-9ddd-c2defe6dab53",
   "metadata": {},
   "source": [
    "#### A Wrong Attempt"
   ]
  },
  {
   "cell_type": "markdown",
   "id": "eddaabe2-c682-4335-8184-b03e590b5d4b",
   "metadata": {},
   "source": [
    "We first show a wrong attempt. The logic in `traverse` is as follows:\n",
    "\n",
    "1. We want to terminate the printing when we reach the last node, that is to say, when the last node is reached, the `.next_node` attribute should return `None`.\n",
    "2. We start off with the head node `self.head` and print `self.head.curr_node_value` in the first while loop to get the first node value.\n",
    "3. Subsequently, we overwrite `self.head` to be `self.head.next_node` after printing, so when the next while loop happens, printing `self.head.curr_node_value` actually points to `self.head.next_node.curr_node_value`. The logic continues until we reach the last node."
   ]
  },
  {
   "cell_type": "code",
   "execution_count": 36,
   "id": "da9d2623-339d-4c4a-acd7-ff02204b0dd6",
   "metadata": {},
   "outputs": [],
   "source": [
    "class LinkedList:\n",
    "    \"\"\"\n",
    "    The LinkedList object is initialized with a head node.\n",
    "\n",
    "    The `head` node (the first node) of a **Linked List** is of a `Node` object.\n",
    "    The `head` **entirely determines** the entirety of the whole **Linked List**.\n",
    "    Because knowing the head node of the **Linked List**, we will be able to know every single node that comes after it sequentially (if exists).\n",
    "\n",
    "    Attributes:\n",
    "        head (Node): The head node of the linked list.\n",
    "    \"\"\"\n",
    "\n",
    "    head: Node = None\n",
    "\n",
    "    def __init__(self) -> None:\n",
    "        self.head = None\n",
    "\n",
    "    def traverse(self) -> None:\n",
    "        \"\"\"Traverse the linked list and print the values of each node.\n",
    "\n",
    "        Examples:\n",
    "            >>> first = Node(1)\n",
    "            >>> second = Node(2)\n",
    "            >>> third = Node(3)\n",
    "            >>> ll = LinkedList()\n",
    "            >>> ll.head = first\n",
    "            >>> ll.head.next_node = second\n",
    "            >>> ll.head.next_node.next_node = third\n",
    "            >>> ll.traverse(ll.head)\n",
    "        \"\"\"\n",
    "        \n",
    "        while self.head is not None:\n",
    "            print(self.head.curr_node_value)\n",
    "            self.head = self.head.next_node\n",
    "            \n",
    "            if self.head is None:\n",
    "                print(\"None\")"
   ]
  },
  {
   "cell_type": "code",
   "execution_count": 37,
   "id": "cb0f092b-a5bd-4ba1-8e16-cba0e6724172",
   "metadata": {},
   "outputs": [
    {
     "name": "stdout",
     "output_type": "stream",
     "text": [
      "1\n",
      "2\n",
      "3\n",
      "None\n"
     ]
    }
   ],
   "source": [
    ">>> first = Node(1)\n",
    ">>> second = Node(2)\n",
    ">>> third = Node(3)\n",
    ">>> ll = LinkedList()\n",
    ">>> ll.head = first\n",
    ">>> ll.head.next_node = second\n",
    ">>> ll.head.next_node.next_node = third\n",
    ">>> ll.traverse()"
   ]
  },
  {
   "cell_type": "markdown",
   "id": "2dd8e5e1-ff2a-4c59-a114-c7d18351f0fe",
   "metadata": {},
   "source": [
    "The code above works fine, but is not ideal since if we want to access `llist.head.curr_node_value` after calling `llist.traverse()`, there will be `AttributeError: 'NoneType' object has no attribute 'value'` since we already set `self.head` to `None` in our last loop. Thus, we should change the code a bit where we assign a `temp` variable to `self.head`.\n",
    "\n",
    "```python\n",
    "temp_node = self.head\n",
    "while temp_node is not None:\n",
    "    print(temp_node.curr_node_value)\n",
    "    temp_node = temp_node.next_node\n",
    "\n",
    "    if temp_node is None:\n",
    "        print(\"None\")\n",
    "```"
   ]
  },
  {
   "cell_type": "code",
   "execution_count": 40,
   "id": "bb6f0142-f6d2-416f-9b32-6c0701a07afe",
   "metadata": {},
   "outputs": [
    {
     "data": {
      "text/plain": [
       "True"
      ]
     },
     "execution_count": 40,
     "metadata": {},
     "output_type": "execute_result"
    }
   ],
   "source": [
    "isinstance(ll.head, type(None))\n",
    "# print(ll.head.curr_node_value)"
   ]
  },
  {
   "cell_type": "markdown",
   "id": "2f5efb51-b085-4eae-8140-388b35bc95c8",
   "metadata": {},
   "source": [
    "#### Static Method\n",
    "\n",
    "Since I am just starting out on this topic, I want to keep the `traverse` method as a standalone function. This is easier for me to debug."
   ]
  },
  {
   "cell_type": "code",
   "execution_count": 9,
   "id": "87ceb870-3712-4197-b8fa-5a84ddb83a5b",
   "metadata": {},
   "outputs": [],
   "source": [
    "class LinkedList:\n",
    "    \"\"\"\n",
    "    The LinkedList object is initialized with a head node.\n",
    "\n",
    "    The `head` node (the first node) of a **Linked List** is of a `Node` object.\n",
    "    The `head` **entirely determines** the entirety of the whole **Linked List**.\n",
    "    Because knowing the head node of the **Linked List**, we will be able to know every single node that comes after it sequentially (if exists).\n",
    "\n",
    "    Attributes:\n",
    "        head (Node): The head node of the linked list.\n",
    "    \"\"\"\n",
    "\n",
    "    head: Node = None\n",
    "\n",
    "    def __init__(self) -> None:\n",
    "        self.head = None\n",
    "\n",
    "    @staticmethod\n",
    "    def traverse(head_node: Node) -> None:\n",
    "        \"\"\"Traverse the linked list and print the values of each node.\n",
    "\n",
    "        Args:\n",
    "            head_node (Node): The head node of a linked list.\n",
    "\n",
    "        Examples:\n",
    "            >>> first = Node(1)\n",
    "            >>> second = Node(2)\n",
    "            >>> third = Node(3)\n",
    "            >>> ll = LinkedList()\n",
    "            >>> ll.head = first\n",
    "            >>> ll.head.next_node = second\n",
    "            >>> ll.head.next_node.next_node = third\n",
    "            >>> ll.traverse(ll.head)\n",
    "        \"\"\"\n",
    "\n",
    "        temp_node = head_node\n",
    "\n",
    "        while temp_node is not None:\n",
    "            print(temp_node.curr_node_value)\n",
    "            temp_node = temp_node.next_node\n",
    "            if temp_node is None:\n",
    "                print(\"None\")"
   ]
  },
  {
   "cell_type": "code",
   "execution_count": 10,
   "id": "fc3f44e5-acfc-4331-a733-217ab369d861",
   "metadata": {},
   "outputs": [
    {
     "name": "stdout",
     "output_type": "stream",
     "text": [
      "1\n",
      "2\n",
      "3\n",
      "None\n"
     ]
    }
   ],
   "source": [
    ">>> first = Node(1)\n",
    ">>> second = Node(2)\n",
    ">>> third = Node(3)\n",
    ">>> ll = LinkedList()\n",
    ">>> ll.head = first\n",
    ">>> ll.head.next_node = second\n",
    ">>> ll.head.next_node.next_node = third\n",
    ">>> ll.traverse(ll.head)"
   ]
  },
  {
   "cell_type": "markdown",
   "id": "b3b5667c-4ec4-4a0f-b13b-6ab2b34cdd70",
   "metadata": {},
   "source": [
    "## References\n",
    "\n",
    "- [Linked List | Set 1 (Introduction) (GeeksforGeeks)](https://www.geeksforgeeks.org/linked-list-set-1-introduction/?ref=lbp)\n",
    "- [Amazon Coding Interview Question: Reverse a Linked List (Leetcode 206 in Python)](https://www.youtube.com/watch?v=XDO6I8jxHtA)\n",
    "- [How to Implement a Linked List in Python](https://towardsdatascience.com/python-linked-lists-c3622205da81)\n",
    "- https://realpython.com/linked-lists-python\n",
    "- https://runestone.academy/ns/books/published/pythonds3/BasicDS/ImplementinganUnorderedListLinkedLists.html"
   ]
  }
 ],
 "metadata": {
  "kernelspec": {
   "display_name": "Python 3 (ipykernel)",
   "language": "python",
   "name": "python3"
  },
  "language_info": {
   "codemirror_mode": {
    "name": "ipython",
    "version": 3
   },
   "file_extension": ".py",
   "mimetype": "text/x-python",
   "name": "python",
   "nbconvert_exporter": "python",
   "pygments_lexer": "ipython3",
   "version": "3.8.10"
  }
 },
 "nbformat": 4,
 "nbformat_minor": 5
}
