{
 "cells": [
  {
   "cell_type": "markdown",
   "id": "d2fb211d-e40e-4faf-94f0-cee6a17afe95",
   "metadata": {},
   "source": [
    "# Questions"
   ]
  },
  {
   "cell_type": "code",
   "execution_count": 1,
   "id": "55d14c20-3565-45e0-92e6-c12dc9fde25b",
   "metadata": {},
   "outputs": [],
   "source": [
    "import sys\n",
    "from pathlib import Path\n",
    "parent_dir = str(Path().resolve().parent.parent)\n",
    "sys.path.append(parent_dir)"
   ]
  },
  {
   "cell_type": "code",
   "execution_count": 2,
   "id": "a32b4e9a-4ac8-456b-b3d9-cd0e4fa6490a",
   "metadata": {},
   "outputs": [],
   "source": [
    "from dsa.dsa import StackList\n",
    "from typing import List, Any"
   ]
  },
  {
   "cell_type": "markdown",
   "id": "69587403-7224-4749-bc4a-ce7f884234c7",
   "metadata": {},
   "source": [
    "## Reverse String using Stack\n",
    "\n",
    "Write a function `rev_string(my_str)` that uses a stack to reverse the characters in a string."
   ]
  },
  {
   "cell_type": "code",
   "execution_count": 3,
   "id": "25f4f5e9-ceee-4061-8341-cb0646f1b0f7",
   "metadata": {},
   "outputs": [
    {
     "data": {
      "text/plain": [
       "'gfedcba'"
      ]
     },
     "execution_count": 3,
     "metadata": {},
     "output_type": "execute_result"
    }
   ],
   "source": [
    "my_str = \"abcdefg\"\n",
    "\n",
    "def reverse_string_using_stack(string: str) -> str:\n",
    "    stack = StackList()\n",
    "    reversed_string = \"\"\n",
    "\n",
    "    for s in string:\n",
    "        stack.push(s)\n",
    "\n",
    "    while not stack.is_empty():\n",
    "        reversed_string += stack.pop()\n",
    "\n",
    "    return reversed_string\n",
    "\n",
    "reverse_string_using_stack(my_str)"
   ]
  },
  {
   "cell_type": "markdown",
   "id": "5886ff7e-2466-49b2-a9d2-0fbb7d9bdd83",
   "metadata": {},
   "source": [
    "## Valid Parentheses"
   ]
  },
  {
   "cell_type": "code",
   "execution_count": 4,
   "id": "7b539e41-e0c7-46d6-8110-4907d636a4ec",
   "metadata": {},
   "outputs": [],
   "source": [
    "def is_valid_parenthesis(string: str) -> bool:\n",
    "    stack = StackList()\n",
    "\n",
    "    if string[0] == \")\":\n",
    "        return False\n",
    "\n",
    "    for s in string:\n",
    "        if s == \"(\":\n",
    "            stack.push(s)\n",
    "        else:  # s == \")\"\n",
    "            if stack.is_empty():\n",
    "                return False\n",
    "            stack.pop()\n",
    "\n",
    "    if stack.is_empty():\n",
    "        return True\n",
    "    return False\n"
   ]
  },
  {
   "cell_type": "code",
   "execution_count": 5,
   "id": "2b03b712-5ce8-4309-b291-6ab6b6da9d7b",
   "metadata": {},
   "outputs": [
    {
     "name": "stdout",
     "output_type": "stream",
     "text": [
      "False\n",
      "True\n",
      "True\n",
      "False\n",
      "False\n",
      "False\n"
     ]
    }
   ],
   "source": [
    "print(is_valid_parenthesis(\"(\"))  # expected False\n",
    "print(is_valid_parenthesis(\"((()))\"))  # expected True\n",
    "print(is_valid_parenthesis(\"((()()))\"))  # expected True\n",
    "print(is_valid_parenthesis(\"(()\"))  # expected False\n",
    "print(is_valid_parenthesis(\")(\"))  # expected False\n",
    "print(is_valid_parenthesis(\"(()))\"))  # expected False"
   ]
  },
  {
   "cell_type": "code",
   "execution_count": 6,
   "id": "199a48e3-1884-4f01-b0da-d2eb1d48625e",
   "metadata": {},
   "outputs": [],
   "source": [
    "def is_match_open_parenthesis(stack, string):\n",
    "    if string == \")\" and stack.peek() != \"(\":\n",
    "        return False\n",
    "    elif string == \"]\" and stack.peek() != \"[\":\n",
    "        return False\n",
    "    elif string == \"}\" and stack.peek() != \"{\":\n",
    "        return False\n",
    "    else:\n",
    "        return True\n",
    "\n",
    "\n",
    "def is_valid_parenthesis(string: str) -> bool:\n",
    "    stack = StackList()\n",
    "\n",
    "    if string[0] in [\")\", \"]\", \"}\"]:\n",
    "        return False\n",
    "\n",
    "    for s in string:\n",
    "        if s in [\"(\", \"[\", \"{\"]:\n",
    "            stack.push(s)\n",
    "        else:  # s == \")\"\n",
    "            if stack.is_empty():\n",
    "                return False\n",
    "            if is_match_open_parenthesis(stack, s):\n",
    "                stack.pop()\n",
    "            else:\n",
    "                return False\n",
    "\n",
    "    if stack.is_empty():\n",
    "        return True\n",
    "    return False"
   ]
  },
  {
   "cell_type": "code",
   "execution_count": 7,
   "id": "d20ec601-8f4a-44f8-97c3-9f049eaeb823",
   "metadata": {},
   "outputs": [
    {
     "name": "stdout",
     "output_type": "stream",
     "text": [
      "True\n",
      "False\n",
      "True\n"
     ]
    }
   ],
   "source": [
    "print(is_valid_parenthesis('{({([][])}())}'))\n",
    "print(is_valid_parenthesis('[{()]'))\n",
    "print(is_valid_parenthesis('()'))"
   ]
  },
  {
   "cell_type": "code",
   "execution_count": 8,
   "id": "fdb797bd-3ed7-40c2-99f9-8e1608d36228",
   "metadata": {},
   "outputs": [],
   "source": [
    "class Solution:\n",
    "    @staticmethod\n",
    "    def is_match_open_parenthesis(stack, string):\n",
    "        if string == \")\" and stack[-1] != \"(\":\n",
    "            return False\n",
    "        elif string == \"]\" and stack[-1] != \"[\":\n",
    "            return False\n",
    "        elif string == \"}\" and stack[-1] != \"{\":\n",
    "            return False\n",
    "        else:\n",
    "            return True\n",
    "    \n",
    "    def isValid(self, s: str) -> bool:\n",
    "        stack = []\n",
    "\n",
    "        if s[0] in [\")\", \"]\", \"}\"]:\n",
    "            return False\n",
    "\n",
    "        for s_ in s:\n",
    "          \n",
    "            if s_ in [\"(\", \"[\", \"{\"]:\n",
    "                stack.append(s_)\n",
    "            else:  # s == \")\"\n",
    "                if len(stack) == 0:\n",
    "                    return False\n",
    "                if self.is_match_open_parenthesis(stack, s_):\n",
    "                    stack.pop()\n",
    "                else:\n",
    "                    print(\"S\")\n",
    "                    return False\n",
    "        \n",
    "        if len(stack) == 0:\n",
    "            return True\n",
    "        return False\n",
    "        "
   ]
  },
  {
   "cell_type": "code",
   "execution_count": 9,
   "id": "4f8d5bf8-b437-4dfb-a213-4183370635e8",
   "metadata": {},
   "outputs": [
    {
     "data": {
      "text/plain": [
       "True"
      ]
     },
     "execution_count": 9,
     "metadata": {},
     "output_type": "execute_result"
    }
   ],
   "source": [
    "Solution().isValid(\"()\")"
   ]
  },
  {
   "cell_type": "code",
   "execution_count": 10,
   "id": "38fd5e20-dc0a-47bf-aef4-3969a24ca991",
   "metadata": {},
   "outputs": [
    {
     "name": "stdout",
     "output_type": "stream",
     "text": [
      ")\n",
      "]\n",
      "}\n"
     ]
    }
   ],
   "source": [
    "Map = {\")\": \"(\", \"]\": \"[\", \"}\": \"{\"}\n",
    "for i in Map:\n",
    "    print(i)"
   ]
  },
  {
   "cell_type": "code",
   "execution_count": 11,
   "id": "0cfa0ae4-b073-4737-a378-bcd02d1daf48",
   "metadata": {},
   "outputs": [],
   "source": [
    "class Solution:\n",
    "    def isValid(self, s: str) -> bool:\n",
    "        Map = {\")\": \"(\", \"]\": \"[\", \"}\": \"{\"}\n",
    "        stack = []\n",
    "\n",
    "        for c in s:\n",
    "            if c not in Map:\n",
    "                print(c)\n",
    "                stack.append(c)\n",
    "                continue\n",
    "            if not stack or stack[-1] != Map[c]:\n",
    "                return False\n",
    "            stack.pop()\n",
    "\n",
    "        return not stack"
   ]
  },
  {
   "cell_type": "code",
   "execution_count": 12,
   "id": "15e9af75-0a0c-4121-b32d-8853a52c9f86",
   "metadata": {},
   "outputs": [
    {
     "name": "stdout",
     "output_type": "stream",
     "text": [
      "{\n",
      "(\n",
      "{\n",
      "(\n",
      "[\n",
      "[\n",
      "(\n"
     ]
    },
    {
     "data": {
      "text/plain": [
       "True"
      ]
     },
     "execution_count": 12,
     "metadata": {},
     "output_type": "execute_result"
    }
   ],
   "source": [
    "Solution().isValid(\"{({([][])}())}\")"
   ]
  }
 ],
 "metadata": {
  "kernelspec": {
   "display_name": "Python 3 (ipykernel)",
   "language": "python",
   "name": "python3"
  },
  "language_info": {
   "codemirror_mode": {
    "name": "ipython",
    "version": 3
   },
   "file_extension": ".py",
   "mimetype": "text/x-python",
   "name": "python",
   "nbconvert_exporter": "python",
   "pygments_lexer": "ipython3",
   "version": "3.8.10"
  }
 },
 "nbformat": 4,
 "nbformat_minor": 5
}
