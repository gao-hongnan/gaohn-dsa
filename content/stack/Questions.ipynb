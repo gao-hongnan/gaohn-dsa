{
 "cells": [
  {
   "cell_type": "markdown",
   "id": "d2fb211d-e40e-4faf-94f0-cee6a17afe95",
   "metadata": {},
   "source": [
    "# Questions"
   ]
  },
  {
   "cell_type": "code",
   "execution_count": 1,
   "id": "55d14c20-3565-45e0-92e6-c12dc9fde25b",
   "metadata": {},
   "outputs": [],
   "source": [
    "import sys\n",
    "from pathlib import Path\n",
    "parent_dir = str(Path().resolve().parent.parent)\n",
    "sys.path.append(parent_dir)"
   ]
  },
  {
   "cell_type": "code",
   "execution_count": 2,
   "id": "a32b4e9a-4ac8-456b-b3d9-cd0e4fa6490a",
   "metadata": {},
   "outputs": [],
   "source": [
    "from dsa.stack import StackList\n",
    "from typing import List, Any"
   ]
  },
  {
   "cell_type": "markdown",
   "id": "69587403-7224-4749-bc4a-ce7f884234c7",
   "metadata": {},
   "source": [
    "## Reverse String using Stack\n",
    "\n",
    "Write a function `rev_string(my_str)` that uses a stack to reverse the characters in a string."
   ]
  },
  {
   "cell_type": "code",
   "execution_count": 3,
   "id": "25f4f5e9-ceee-4061-8341-cb0646f1b0f7",
   "metadata": {},
   "outputs": [
    {
     "data": {
      "text/plain": [
       "'gfedcba'"
      ]
     },
     "execution_count": 3,
     "metadata": {},
     "output_type": "execute_result"
    }
   ],
   "source": [
    "my_str = \"abcdefg\"\n",
    "\n",
    "def reverse_string_using_stack(string: str) -> str:\n",
    "    stack: StackList[str] = StackList()\n",
    "    reversed_string = \"\"\n",
    "\n",
    "    for s in string:\n",
    "        stack.push(s)\n",
    "\n",
    "    while not stack.is_empty():\n",
    "        reversed_string += stack.pop()\n",
    "\n",
    "    return reversed_string\n",
    "\n",
    "reverse_string_using_stack(my_str)"
   ]
  },
  {
   "cell_type": "markdown",
   "id": "5886ff7e-2466-49b2-a9d2-0fbb7d9bdd83",
   "metadata": {},
   "source": [
    "## Valid Parentheses"
   ]
  },
  {
   "cell_type": "markdown",
   "id": "32a06290-1318-4c91-b1f7-3f10a44ab83e",
   "metadata": {},
   "source": [
    "https://leetcode.com/problems/valid-parentheses/solution/\n",
    "\n",
    "- Initialize a stack S.\n",
    "- Process each bracket of the expression one at a time.\n",
    "- If we encounter an opening bracket, we simply push it onto the stack. This means we will process it later, let us simply move onto the sub-expression ahead.\n",
    "- If we encounter a closing bracket, then we check the element on top of the stack. If the element at the top of the stack is an opening bracket of the same type, then we pop it off the stack and continue processing. Else, this implies an invalid expression.\n",
    "- In the end, if we are left with a stack still having elements, then this implies an invalid expression."
   ]
  },
  {
   "cell_type": "markdown",
   "id": "9961418b-8fbc-450f-a718-46a89fda1b34",
   "metadata": {},
   "source": [
    "The below question is for string containing only `(` or `)`."
   ]
  },
  {
   "cell_type": "code",
   "execution_count": 4,
   "id": "7b539e41-e0c7-46d6-8110-4907d636a4ec",
   "metadata": {},
   "outputs": [],
   "source": [
    "def is_valid_parentheses(string: str) -> bool:\n",
    "    stack: StackList[str] = StackList()\n",
    " \n",
    "    if string[0] == \")\":\n",
    "        return False\n",
    "\n",
    "    for s in string:\n",
    "        if s == \"(\":\n",
    "            stack.push(s)\n",
    "        else:  # s == \")\"\n",
    "            if stack.is_empty():\n",
    "                return False\n",
    "            stack.pop()\n",
    "\n",
    "    if stack.is_empty():\n",
    "        return True\n",
    "    return False\n"
   ]
  },
  {
   "cell_type": "code",
   "execution_count": 5,
   "id": "2b03b712-5ce8-4309-b291-6ab6b6da9d7b",
   "metadata": {},
   "outputs": [
    {
     "name": "stdout",
     "output_type": "stream",
     "text": [
      "False\n",
      "True\n",
      "True\n",
      "False\n",
      "False\n",
      "False\n"
     ]
    }
   ],
   "source": [
    "print(is_valid_parentheses(\"(\"))  # expected False\n",
    "print(is_valid_parentheses(\"((()))\"))  # expected True\n",
    "print(is_valid_parentheses(\"((()()))\"))  # expected True\n",
    "print(is_valid_parentheses(\"(()\"))  # expected False\n",
    "print(is_valid_parentheses(\")(\"))  # expected False\n",
    "print(is_valid_parentheses(\"(()))\"))  # expected False"
   ]
  },
  {
   "cell_type": "markdown",
   "id": "d9c1d4ff-c7d2-45da-bb8f-b6ccd21648e9",
   "metadata": {},
   "source": [
    "The below question is for `(), {}, []`.\n",
    "\n",
    "Note this implementation returns `True` if empty string is passed in."
   ]
  },
  {
   "cell_type": "code",
   "execution_count": 6,
   "id": "1de571aa-ba73-444c-9647-45a6bd4832c9",
   "metadata": {},
   "outputs": [],
   "source": [
    "class Solution:\n",
    "    def __init__(self) -> None:\n",
    "        # Hash map for keeping track of mappings. This keeps the code very clean.\n",
    "        # Also makes adding more types of parenthesis easier\n",
    "        self.mapping = {\")\": \"(\", \"}\": \"{\", \"]\": \"[\"}\n",
    "\n",
    "        # The stack to keep track of opening brackets.\n",
    "        self.stack = StackList()\n",
    "\n",
    "    def is_valid_parentheses(self, string: str) -> bool:\n",
    "        for char in string:\n",
    "\n",
    "            # if the char is not in mapping means it is an opening bracket\n",
    "            # so we push it to the stack\n",
    "            if char not in self.mapping:\n",
    "                self.stack.push(char)\n",
    "            else:\n",
    "                # the else clause means we have a closing bracket,\n",
    "                # we first check if the stack is empty, if it is we return False\n",
    "                # because this is the case where we have a closing bracket with no opening bracket\n",
    "                # in particular, if we have \")(\" then this check will return False\n",
    "                # because the stack is empty as we have not pushed any opening brackets\n",
    "                if self.stack.is_empty():\n",
    "                    return False\n",
    "                else:\n",
    "                    # get the top element of the stack and pop at the same time\n",
    "                    # this works since stack is not empty\n",
    "                    top_element = self.stack.pop()\n",
    "\n",
    "                    # if the top element of the stack (an opening bracket) does not match\n",
    "                    # the corresponding closing bracket in the mapping, then we return False\n",
    "                    # for example, if we have \"[)\" then this check will return False\n",
    "                    if self.mapping[char] != top_element:\n",
    "                        return False\n",
    "                    else:\n",
    "                        # else the top element of the stack and the current char forms a pair\n",
    "                        # so we continue to the next char\n",
    "                        continue\n",
    "\n",
    "        # In the end, if the stack is empty, then we have a valid expression.\n",
    "        # The stack won't be empty for cases like ((() so we return False\n",
    "        if self.stack.is_empty():\n",
    "            return True\n",
    "        return False"
   ]
  },
  {
   "cell_type": "code",
   "execution_count": 7,
   "id": "ad54cb9a-b6b3-4a4f-9963-a910fc9ca3b5",
   "metadata": {},
   "outputs": [
    {
     "name": "stdout",
     "output_type": "stream",
     "text": [
      "True\n",
      "False\n",
      "False\n",
      "False\n",
      "True\n"
     ]
    }
   ],
   "source": [
    "print(Solution().is_valid_parentheses(\"{({([][])}())}\"))\n",
    "print(Solution().is_valid_parentheses(\"}{\"))\n",
    "print(Solution().is_valid_parentheses(\"{({([][])}())}}\"))\n",
    "print(Solution().is_valid_parentheses(\"{{({([][])}())}\"))\n",
    "print(Solution().is_valid_parentheses(\"\"))"
   ]
  },
  {
   "cell_type": "markdown",
   "id": "ef40e774-787e-42a4-99fa-5dbfe5f38a6f",
   "metadata": {},
   "source": [
    "### Time Complexity"
   ]
  },
  {
   "cell_type": "markdown",
   "id": "e69efa4f-6325-45a2-906e-42bd3aa60d3f",
   "metadata": {},
   "source": [
    "Assume the string has length $n$.\n",
    "\n",
    "Operations such as `push`, `pop`, `is_empty()` and `!=` here are all $\\O(1)$.\n",
    "\n",
    "```{list-table} Time Complexity\n",
    ":header-rows: 1\n",
    ":name: stack\n",
    "\n",
    "* - Operations\n",
    "  - Time Complexity\n",
    "* - `push`\n",
    "  - $\\O(1)$\n",
    "* - `pop`\n",
    "  - $\\O(1)$\n",
    "```\n",
    "\n",
    "And since we traverse the given string one character at a time for at most $n$ times, then the time complexity is $\\O(1) \\times n \\approx \\O(n)$."
   ]
  },
  {
   "cell_type": "markdown",
   "id": "ce4af6ac-dd3c-46a2-903e-93dff22de3ed",
   "metadata": {},
   "source": [
    "### Space Complexity\n",
    "\n",
    "Assume the string has length $n$.\n",
    "\n",
    "The space complexity is at most $\\O(n)$ as we are just maintaining a stack with at most $n$ elements pushed in."
   ]
  }
 ],
 "metadata": {
  "kernelspec": {
   "display_name": "Python 3 (ipykernel)",
   "language": "python",
   "name": "python3"
  },
  "language_info": {
   "codemirror_mode": {
    "name": "ipython",
    "version": 3
   },
   "file_extension": ".py",
   "mimetype": "text/x-python",
   "name": "python",
   "nbconvert_exporter": "python",
   "pygments_lexer": "ipython3",
   "version": "3.8.10"
  }
 },
 "nbformat": 4,
 "nbformat_minor": 5
}
