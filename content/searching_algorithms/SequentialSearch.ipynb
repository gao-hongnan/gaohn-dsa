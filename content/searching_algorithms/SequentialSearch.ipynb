{
 "cells": [
  {
   "cell_type": "markdown",
   "id": "f498fdf7-5a20-441b-8032-382549a4dc7a",
   "metadata": {},
   "source": [
    "# Sequential/Linear Search"
   ]
  },
  {
   "cell_type": "markdown",
   "id": "74ad8126-f170-428c-964b-667d0404b53b",
   "metadata": {},
   "source": [
    "[![Open in Colab](https://colab.research.google.com/assets/colab-badge.svg)](https://colab.research.google.com/github/gao-hongnan/reighns-ml-blog/blob/master/docs/reighns_ml_journey/data_structures_and_algorithms/Stack.ipynb)"
   ]
  },
  {
   "cell_type": "markdown",
   "id": "fa5c755d-b1e2-4302-b1fb-f567323f39de",
   "metadata": {},
   "source": [
    "## Intuition of Sequential Search\n",
    "\n",
    "This idea is quite simple, given a container, say a list (which is stored sequentially/linearly as each element's position is relative to one another).\n",
    "\n",
    "If we want to search for an target element `e` in the list, we can do so **sequentially**, where we search from the 1st element up to the last element from the list, if we find `e` while searching through, then return `True`, else if we reached to the end of the list and there is no `e` found, then return `False`. We can also return the index of `e` if we found it."
   ]
  },
  {
   "cell_type": "markdown",
   "id": "0de95bdf-6c55-4dec-81da-c127207a5627",
   "metadata": {},
   "source": [
    "```{figure} ../assets/linear_search_geeksforgeeks.png\n",
    "---\n",
    "name: linear_search_diagram\n",
    "---\n",
    "Linear Search Algorithm. Image credit to [GeeksforGeeks](https://www.geeksforgeeks.org/linear-search/).\n",
    "```"
   ]
  },
  {
   "cell_type": "markdown",
   "id": "50428e16-970e-4389-ad8e-afb8086b4349",
   "metadata": {
    "tags": []
   },
   "source": [
    "## Unordered Sequential Search\n",
    "\n",
    "The list that we want to search for is unordered."
   ]
  },
  {
   "cell_type": "markdown",
   "id": "68371a89-d4c0-4835-85e3-9c479b43b65b",
   "metadata": {},
   "source": [
    "### Algorithm (Iterative)"
   ]
  },
  {
   "cell_type": "markdown",
   "id": "5f220557",
   "metadata": {},
   "source": [
    "````{prf:algorithm} Basic Linear Search Algorithm (Iterative)\n",
    ":label: basic_linear_search_iterative\n",
    "\n",
    "Given a list $L$ of $n$ elements with values or records $L_0, L_1, ..., L_{n-1}$, and target value $T$, the following subroutine uses linear search to find the index of the target $T$ in $L$.\n",
    "\n",
    "1. Set $i$ to 0.\n",
    "2. If $L_i = T$, the search terminates successfully; return $i$. Else, go to step 3.\n",
    "3. Increase $i$ by 1.\n",
    "4. If $i < n$, go to step 2. Otherwise, the search terminates unsuccessfully and return $-1$.\n",
    "\n",
    "Pseudocode:\n",
    "\n",
    "```python\n",
    "def linear_search(L, T):\n",
    "    for i from 0 to n-1:\n",
    "        if L[i] == T:\n",
    "            return i\n",
    "    return -1\n",
    "```\n",
    "````"
   ]
  },
  {
   "cell_type": "markdown",
   "id": "ac0dde21-4929-4891-9a75-0ead72a9e710",
   "metadata": {},
   "source": [
    "### Implementation (Iterative)\n",
    "\n",
    "Assumptions:\n",
    "\n",
    "1. The `container` is a list.\n",
    "2. The list holds integers or floats."
   ]
  },
  {
   "cell_type": "code",
   "execution_count": 1,
   "id": "eea46df6-7fac-4f76-8a2d-20ae80c03afc",
   "metadata": {},
   "outputs": [],
   "source": [
    "from __future__ import annotations\n",
    "\n",
    "from typing import TypeVar, Tuple, Iterable\n",
    "\n",
    "T = TypeVar(\"T\")\n",
    "\n",
    "\n",
    "def unordered_sequential_search_iterative(\n",
    "    container: Iterable[T], target: T\n",
    ") -> Tuple[bool, int]:\n",
    "    \"\"\"If the target element is found in the container, returns True and its index,\n",
    "    else, return False and -1 to indicate the not found index.\"\"\"\n",
    "    is_found = False  # a flag to indicate so your return is more meaningful\n",
    "    index = 0\n",
    "    for item in container:\n",
    "        if item == target:\n",
    "            is_found = True\n",
    "            return is_found, index\n",
    "        index += 1\n",
    "    return is_found, -1"
   ]
  },
  {
   "cell_type": "code",
   "execution_count": 10,
   "id": "10a6dba0",
   "metadata": {},
   "outputs": [
    {
     "name": "stdout",
     "output_type": "stream",
     "text": [
      "(False, -1)\n",
      "(False, -1)\n",
      "(True, 7)\n"
     ]
    }
   ],
   "source": [
    "unordered_list = [1, 2, 32, 8, 17, 19, 42, 13, 0]\n",
    "\n",
    "print(unordered_sequential_search_iterative(unordered_list, -1)) # smaller than smallest element\n",
    "print(unordered_sequential_search_iterative(unordered_list, 45)) # larger than largest element\n",
    "print(unordered_sequential_search_iterative(unordered_list, 13)) # in the middle"
   ]
  },
  {
   "cell_type": "markdown",
   "id": "7f98b885-82e0-41e0-ad04-88d7a028ea0f",
   "metadata": {},
   "source": [
    "#### Time Complexity\n",
    "\n",
    "We need to split the time complexity into a few cases, this is because the \n",
    "time complexity ***heavily*** depends on the position of the target element we are searching for.\n",
    "\n",
    "If the element we are searching for is at the beginning of the list, then the time complexity is $\\O(1)$, because we only need to check the first element.\n",
    "\n",
    "If the element is at the end of the list, then the time complexity is $\\O(n)$, because we need to check every element in the list.\n",
    "\n",
    "On average, the time complexity is $\\O(\\frac{n}{2})$. This average means that for a list with $n$\n",
    "elements, there is an equal chance that the element we are searching for is at the beginning, middle, or end of the list. In short, it is a uniform distribution. And therefore the expected time complexity is $\\O(\\frac{n}{2})$.\n",
    "\n",
    "However, so far we assumed that the element we are searching for is in the list. If the element is not in the list, then the time complexity is $\\O(n)$ for all cases,\n",
    "because we need to check every element in the list.\n",
    "\n",
    "```{list-table} Time Complexity of Sequential Search\n",
    ":header-rows: 1\n",
    ":name: sequential_search_time_complexity\n",
    "\n",
    "* - Case\n",
    "  - Worst Case\n",
    "  - Average Case\n",
    "  - Best Case\n",
    "* - Element is in the list\n",
    "  - $\\O(n)$\n",
    "  - $\\O(\\frac{n}{2})$\n",
    "  - $\\O(1)$\n",
    "* - Element is not in the list\n",
    "  - $\\O(n)$\n",
    "  - $\\O(n)$\n",
    "  - $\\O(n)$\n",
    "```"
   ]
  },
  {
   "cell_type": "markdown",
   "id": "5d2c3ce3-22dc-4265-87fc-7ac5c9d5ce75",
   "metadata": {},
   "source": [
    "#### Space Complexity\n",
    "\n",
    "Space complexity: $\\O(1)$ because we are keeping track of one boolean/index variable in the\n",
    "loop. However, if we count the space of the list, then the space complexity is $\\O(n)$ since\n",
    "the list is of size $n$.\n",
    "\n",
    "However, the consensus is that, if the list given is a constant list, and not part of the algorithm,\n",
    "we will not count the size of the list, and thus the space complexity is $\\O(1)$."
   ]
  },
  {
   "cell_type": "markdown",
   "id": "e1f8abe7",
   "metadata": {},
   "source": [
    "### Implementation (Recursive)"
   ]
  },
  {
   "cell_type": "code",
   "execution_count": 3,
   "id": "d60ffa7d",
   "metadata": {
    "tags": [
     "number-source-lines"
    ]
   },
   "outputs": [],
   "source": [
    "def unordered_sequential_search_recursive(\n",
    "    container: Iterable[T], target: T, index: int = 0\n",
    ") -> int:\n",
    "    \"\"\"Recursive implementation of unordered Sequential Search.\"\"\"\n",
    "    if len(container) == 0:  # if not container is also fine\n",
    "        return -1  # not found\n",
    "\n",
    "    if container[0] == target:  # this is base case\n",
    "        return index  # found\n",
    "\n",
    "    # notice we increment index by 1 to mean index += 1 in the iterative case\n",
    "    return unordered_sequential_search_recursive(\n",
    "        container[1:], target, index + 1\n",
    "    )  # recursive case"
   ]
  },
  {
   "cell_type": "code",
   "execution_count": 11,
   "id": "5325b893-d404-4078-90bf-deb4151e200c",
   "metadata": {},
   "outputs": [
    {
     "name": "stdout",
     "output_type": "stream",
     "text": [
      "-1\n",
      "-1\n",
      "7\n"
     ]
    }
   ],
   "source": [
    "unordered_list = [1, 2, 32, 8, 17, 19, 42, 13, 0]\n",
    "\n",
    "print(unordered_sequential_search_recursive(unordered_list, -1)) # smaller than smallest element\n",
    "print(unordered_sequential_search_recursive(unordered_list, 45)) # larger than largest element\n",
    "print(unordered_sequential_search_recursive(unordered_list, 13)) # in the middle"
   ]
  },
  {
   "cell_type": "markdown",
   "id": "a4803810-8be9-44d7-984f-24064cc365d6",
   "metadata": {},
   "source": [
    "Let's see if our implementation obeys the 3 Laws of Recursion ({prf:ref}`axiom_three_laws_of_recursion`).\n",
    "\n",
    "We need to shrink our `container` list from $n$ all the way down, and at the same time,\n",
    "keep track of our `index` to point to the correct index of the `container`.\n",
    "\n",
    "1. We have two base cases:\n",
    "    - in `lines 5-6`, we first check if the list is empty, if it is, means we reached till the end\n",
    "of the list and have not found the `target` element, and hence return `-1`.\n",
    "    - in `lines 8-9`, if the list's first element is the `target`, then return the `index` since we found it.\n",
    "2. Has our recursive algorithm change its state and move towards our base case? Yes, because after each function call \n",
    "    at `lines 12-14`, we slice our list by `[1:]`, which means we drop the first element, and move on to check if the \"next\" element is our `target`.\n",
    "    Here, we also need to increment `index` by 1 since we need to recover the index if we found the `target`.\n",
    "3. This is a recursive algorithm because the function calls itself at `lines 12-14`."
   ]
  },
  {
   "cell_type": "markdown",
   "id": "6f63e101-99be-4b0e-986b-7c99ae8deade",
   "metadata": {},
   "source": [
    "```{admonition} Tip\n",
    ":class: tip\n",
    "\n",
    "Time to revisit this recursion for revision, especially understand how\n",
    "recursion is stacking function calls and popping it later.\n",
    "\n",
    "I also think converting from an iterative solution to recursive is easier\n",
    "than just thinking of recursion straight. You just need to observe\n",
    "what variables are changing in **states** in iterative,\n",
    "and try to do the same to its recursive counterpart.\n",
    "```"
   ]
  },
  {
   "cell_type": "markdown",
   "id": "c8033001-09f0-4806-b988-c2cd799f72e8",
   "metadata": {},
   "source": [
    "Using Python Tutor to visualize recursive calls [here](https://pythontutor.com/render.html#code=def%20f%28container,%20target,%20index%3D0%29%3A%0A%20%20%20%20if%20len%28container%29%20%3D%3D%200%3A%20%20%23%20if%20not%20container%20is%20also%20fine%0A%20%20%20%20%20%20%20%20return%20-1%20%20%23%20not%20found%0A%0A%20%20%20%20if%20container%5B0%5D%20%3D%3D%20target%3A%20%20%23%20this%20is%20base%20case%0A%20%20%20%20%20%20%20%20return%20index%20%20%23%20found%0A%0A%20%20%20%20%23%20notice%20we%20increment%20index%20by%201%20to%20mean%20index%20%2B%3D%201%20in%20the%20iterative%20case%0A%20%20%20%20return%20f%28container%5B1%3A%5D,%20target,%20index%20%2B%201%29%20%20%23%20recursive%20case%0A%20%20%20%20%0Aunordered_list%20%3D%20%5B1,%202,%2032,%208,%2017,%2019,%2042,%2013,%200%5D%0Aprint%28f%28unordered_list,%2013%29%29&cumulative=false&curInstr=0&heapPrimitives=nevernest&mode=display&origin=opt-frontend.js&py=3&rawInputLstJSON=%5B%5D&textReferences=false)."
   ]
  },
  {
   "cell_type": "markdown",
   "id": "240a1d81-177b-46ac-a3b2-fc4255785606",
   "metadata": {},
   "source": [
    "<iframe width=\"800\" height=\"500\" frameborder=\"0\" src=\"https://pythontutor.com/iframe-embed.html#code=def%20f%28container,%20target,%20index%3D0%29%3A%0A%20%20%20%20if%20len%28container%29%20%3D%3D%200%3A%20%20%23%20if%20not%20container%20is%20also%20fine%0A%20%20%20%20%20%20%20%20return%20-1%20%20%23%20not%20found%0A%0A%20%20%20%20if%20container%5B0%5D%20%3D%3D%20target%3A%20%20%23%20this%20is%20base%20case%0A%20%20%20%20%20%20%20%20return%20index%20%20%23%20found%0A%0A%20%20%20%20%23%20notice%20we%20increment%20index%20by%201%20to%20mean%20index%20%2B%3D%201%20in%20the%20iterative%20case%0A%20%20%20%20return%20f%28container%5B1%3A%5D,%20target,%20index%20%2B%201%29%20%20%23%20recursive%20case%0A%20%20%20%20%0Aunordered_list%20%3D%20%5B1,%202,%2032,%208,%2017,%2019,%2042,%2013,%200%5D%0Aprint%28f%28unordered_list,%2013%29%29&codeDivHeight=400&codeDivWidth=350&cumulative=false&curInstr=0&heapPrimitives=nevernest&origin=opt-frontend.js&py=3&rawInputLstJSON=%5B%5D&textReferences=false\"> </iframe>"
   ]
  },
  {
   "cell_type": "markdown",
   "id": "31e282b2",
   "metadata": {},
   "source": [
    "## Ordered Sequential Search\n",
    "\n",
    "Previously, we showed how to perform sequential search on a list, which does not assumes order.\n",
    "\n",
    "We noticed that when the item is not in the list, the time complexity is $\\O(n)$, because we need to check every element in the list. This can be alleviated if we assume that the list is ordered, and we can stop searching when we reach an element that is greater than the element we are searching for.\n",
    "\n",
    "For now, we will assume the list contains a list of integers, but this can be generalized to other data types through\n",
    "mapping. For example, we can map the alphabet to a list of integers, and then perform ordered sequential search on the list of integers."
   ]
  },
  {
   "cell_type": "markdown",
   "id": "e92b2a44-aae4-465b-b8e6-9be584e96b31",
   "metadata": {},
   "source": [
    "### Algorithm (Iterative)\n",
    "\n",
    "```{prf:algorithm} Basic Ordered Linear Search Algorithm (Iterative)\n",
    ":label: basic_ordered_linear_search_iterative\n",
    "\n",
    "Given an ordered list $L$ of $n$ elements with values or records $L_0, L_1, ..., L_{n-1}$\n",
    "such that $L_0 \\leq L_1 \\leq ... \\leq L_{n-1}$, and target value $T$, the following subroutine uses ordered linear search to find the index of the target $T$ in $L$.\n",
    "\n",
    "1. Set $i$ to 0.\n",
    "2. If $L_i = T$, the search terminates successfully; return $i$. Else, go to step 3.\n",
    "3. If $L_i > T$, the search terminates unsuccessfully; return $-1$.\n",
    "```"
   ]
  },
  {
   "cell_type": "markdown",
   "id": "7f9679b1",
   "metadata": {},
   "source": [
    "### Implementation (Iterative)"
   ]
  },
  {
   "cell_type": "code",
   "execution_count": 8,
   "id": "dcff4f63-ac6d-4e9b-8193-ff5e89facd79",
   "metadata": {},
   "outputs": [],
   "source": [
    "def ordered_sequential_search(container: Iterable[T], target: T) -> Tuple[bool, int]:\n",
    "    \"\"\"Sequential search for ordered container.\"\"\"\n",
    "    is_found = False  # a flag to indicate so your return is more meaningful\n",
    "    index = 0\n",
    "    for item in container:\n",
    "        if item == target:\n",
    "            is_found = True\n",
    "            return is_found, index\n",
    "        index += 1\n",
    "        if item > target:\n",
    "            return is_found, -1\n",
    "    # do not forget this if not if target > largest element in container, this case is not covered\n",
    "    return is_found, -1"
   ]
  },
  {
   "cell_type": "markdown",
   "id": "17ac2304",
   "metadata": {},
   "source": [
    "The reason for not using `enumerate` to get the index of a number in \n",
    "a list when iterating is to minimize the\n",
    "usage of in-built functions."
   ]
  },
  {
   "cell_type": "code",
   "execution_count": 9,
   "id": "061bd592",
   "metadata": {},
   "outputs": [
    {
     "name": "stdout",
     "output_type": "stream",
     "text": [
      "(False, -1)\n",
      "(False, -1)\n",
      "(True, 4)\n"
     ]
    }
   ],
   "source": [
    "ordered_list = [0, 1, 2, 8, 13, 17, 19, 32, 42]\n",
    "print(ordered_sequential_search(ordered_list, -1)) # smaller than smallest element\n",
    "print(ordered_sequential_search(ordered_list, 45)) # larger than largest element\n",
    "print(ordered_sequential_search(ordered_list, 13)) # in the middle"
   ]
  },
  {
   "cell_type": "markdown",
   "id": "16073688",
   "metadata": {},
   "source": [
    "#### Time Complexity\n",
    "\n",
    "Note that for ordered sequential search, the time complexity does not change for the case\n",
    "when the item is in the list.\n",
    "\n",
    "However, for the case when the item is not in the list, we have our \n",
    "best case scenario to be $\\O(1)$, because upon checking our first element,\n",
    "and if the first element is already greater than the element we are searching for, then we can stop searching and return `False`.\n",
    "\n",
    "For the worst case scenario, it is still $\\O(n)$ since we have to check every element in the list.\n",
    "\n",
    "But, for the average case, it is now $\\O(\\frac{n}{2})$, because we can stop searching when we reach an element that is greater than the element we are searching for.\n",
    "\n",
    "```{list-table} Time Complexity of Ordered Sequential Search\n",
    ":header-rows: 1\n",
    ":name: ordered_sequential_search_time_complexity\n",
    "\n",
    "* - Case\n",
    "  - Worst Case\n",
    "  - Average Case\n",
    "  - Best Case\n",
    "* - Element is in the list\n",
    "  - $\\O(n)$\n",
    "  - $\\O(\\frac{n}{2})$\n",
    "  - $\\O(1)$\n",
    "* - Element is not in the list\n",
    "  - $\\O(n)$\n",
    "  - $\\O(\\frac{n}{2})$\n",
    "  - $\\O(1)$\n",
    "```"
   ]
  },
  {
   "cell_type": "markdown",
   "id": "b340f94d-1104-428e-8f0f-c01870fa0e2f",
   "metadata": {},
   "source": [
    "#### Space Complexity\n",
    "\n",
    "Similarly, the space complexity is still $\\O(1)$."
   ]
  },
  {
   "cell_type": "markdown",
   "id": "dddc7856-701a-42a9-ad8c-8057209713fd",
   "metadata": {},
   "source": [
    "## Further Readings\n",
    "\n",
    "- https://www.geeksforgeeks.org/linear-search/\n",
    "- https://runestone.academy/ns/books/published/pythonds/SortSearch/TheSequentialSearch.html\n",
    "- https://en.wikipedia.org/wiki/Linear_search\n",
    "- https://stackoverflow.com/questions/4295608/recursive-linear-search-returns-list-index\n",
    "- https://ozaner.github.io/sequential-search/"
   ]
  }
 ],
 "metadata": {
  "kernelspec": {
   "display_name": "Python 3 (ipykernel)",
   "language": "python",
   "name": "python3"
  },
  "language_info": {
   "codemirror_mode": {
    "name": "ipython",
    "version": 3
   },
   "file_extension": ".py",
   "mimetype": "text/x-python",
   "name": "python",
   "nbconvert_exporter": "python",
   "pygments_lexer": "ipython3",
   "version": "3.8.10"
  },
  "vscode": {
   "interpreter": {
    "hash": "4e6f416d0ee4cc058e55edaeec9b3ebb8118a2e8e25e41959d550aad8809f295"
   }
  }
 },
 "nbformat": 4,
 "nbformat_minor": 5
}
