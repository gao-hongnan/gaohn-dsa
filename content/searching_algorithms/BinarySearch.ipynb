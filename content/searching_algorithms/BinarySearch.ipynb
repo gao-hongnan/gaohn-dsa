{
 "cells": [
  {
   "cell_type": "markdown",
   "id": "f498fdf7-5a20-441b-8032-382549a4dc7a",
   "metadata": {},
   "source": [
    "# Binary Search"
   ]
  },
  {
   "cell_type": "markdown",
   "id": "6b0bf97d",
   "metadata": {},
   "source": [
    "![](https://media.geeksforgeeks.org/wp-content/uploads/20220309171621/BinarySearch.png)"
   ]
  },
  {
   "cell_type": "markdown",
   "id": "975e60c6",
   "metadata": {},
   "source": [
    "```{prf:algorithm} Ford–Fulkerson\n",
    ":label: my-algorithm\n",
    "\n",
    "https://en.wikipedia.org/wiki/Binary_search_algorithm\n",
    "```"
   ]
  },
  {
   "cell_type": "markdown",
   "id": "74ad8126-f170-428c-964b-667d0404b53b",
   "metadata": {},
   "source": [
    "[![Open in Colab](https://colab.research.google.com/assets/colab-badge.svg)](https://colab.research.google.com/github/reighns92/reighns-ml-blog/blob/master/docs/reighns_ml_journey/data_structures_and_algorithms/Stack.ipynb)"
   ]
  },
  {
   "cell_type": "markdown",
   "id": "fa5c755d-b1e2-4302-b1fb-f567323f39de",
   "metadata": {},
   "source": [
    "## Intuition of Sequential Search\n",
    "\n",
    "This idea is quite simple, given a container, say a list (which is stored sequentially/linearly as each element's position is relative to one another).\n",
    "\n",
    "If we want to search for an element `e` in the list, we can do so **sequentially**, where we search from the 1st element up to the last element from the list, if we find `e` while searching through, then return `True`, else if we reached to the end of the list and there is no `e` found, then return `False`. We can also return the index of `e` if we found it."
   ]
  },
  {
   "cell_type": "markdown",
   "id": "0de95bdf-6c55-4dec-81da-c127207a5627",
   "metadata": {},
   "source": [
    "```{figure} ../assets/stack_diagram_flow.jpg\n",
    "---\n",
    "name: stack_flow_diagram\n",
    "---\n",
    "Stack Diagram Flow. Image credit to [programiz](https://www.programiz.com/dsa/stack) and [dev.to](https://dev.to/theoutlander/implementing-the-stack-data-structure-in-javascript-4164).\n",
    "```"
   ]
  },
  {
   "cell_type": "markdown",
   "id": "c22647e6-d3d1-4a85-84b4-168c4ce72e4f",
   "metadata": {},
   "source": [
    "## Implementing Sequential Search using List"
   ]
  },
  {
   "cell_type": "markdown",
   "id": "ac0dde21-4929-4891-9a75-0ead72a9e710",
   "metadata": {},
   "source": [
    "### Python Implementation"
   ]
  },
  {
   "cell_type": "code",
   "execution_count": 11,
   "id": "eea46df6-7fac-4f76-8a2d-20ae80c03afc",
   "metadata": {},
   "outputs": [],
   "source": [
    "from __future__ import annotations\n",
    "\n",
    "from typing import Generic, TypeVar, List, Iterable\n",
    "\n",
    "T = TypeVar(\"T\")\n",
    "\n",
    "\n",
    "def binary_search(container: Iterable[T], element: T) -> bool:\n",
    "    start_index = 0\n",
    "    end_index = len(container) - 1\n",
    "\n",
    "    mid_index = (end_index - start_index) // 2  # solves whether list len is even or odd\n",
    "\n",
    "    while end_index - start_index > 1:\n",
    "        mid_number = container[mid_index]\n",
    "\n",
    "        if mid_number == element:\n",
    "            return mid_index\n",
    "\n",
    "        else:\n",
    "            if element > mid_number:\n",
    "                start_index = mid_index + 1\n",
    "                # end_index does not change\n",
    "                mid_index = (end_index - start_index) // 2\n",
    "            else:\n",
    "                end_index = mid_index - 1\n",
    "                # start_index does not change\n",
    "                mid_index = (end_index - start_index) // 2\n",
    "\n",
    "    remainder_start = container[start_index]\n",
    "    remainder_end = container[end_index]\n",
    "    if element == remainder_start:\n",
    "        return start_index\n",
    "    elif element == remainder_end:\n",
    "        return end_index\n",
    "    else:\n",
    "        return \"Not Found!\""
   ]
  },
  {
   "cell_type": "code",
   "execution_count": 12,
   "id": "10a6dba0",
   "metadata": {},
   "outputs": [
    {
     "name": "stdout",
     "output_type": "stream",
     "text": [
      "Not Found!\n",
      "4\n"
     ]
    }
   ],
   "source": [
    "ordered_list = [0, 1, 2, 8, 13, 17, 19, 32, 42]\n",
    "print(binary_search(ordered_list, 3))\n",
    "print(binary_search(ordered_list, 13))"
   ]
  },
  {
   "cell_type": "markdown",
   "id": "7f98b885-82e0-41e0-ad04-88d7a028ea0f",
   "metadata": {},
   "source": [
    "### Time Complexity\n",
    "\n",
    "We need to split the time complexity into a few cases, this is because the \n",
    "time complexity ***heavily*** depends on the position of the element we are searching for.\n",
    "\n",
    "If the element we are searching for is at the beginning of the list, then the time complexity is $\\O(1)$, because we only need to check the first element.\n",
    "\n",
    "If the element is at the end of the list, then the time complexity is $\\O(n)$, because we need to check every element in the list.\n",
    "\n",
    "On average, the time complexity is $\\O(\\frac{n}{2})$. This average means that for a list with $n$\n",
    "elements, there is an equal chance that the element we are searching for is at the beginning, middle, or end of the list. In short, it is a uniform distribution. And therefore the expected time complexity is $\\O(\\frac{n}{2})$.\n",
    "\n",
    "However, so far we assumed that the element we are searching for is in the list. If the element is not in the list, then the time complexity is $\\O(n)$ for all cases,\n",
    "because we need to check every element in the list.\n",
    "\n",
    "```{list-table} Time Complexity of Sequential Search\n",
    ":header-rows: 1\n",
    ":name: sequential_search_time_complexity\n",
    "\n",
    "* - Case\n",
    "  - Worst Case\n",
    "  - Average Case\n",
    "  - Best Case\n",
    "* - Element is in the list\n",
    "  - $\\O(1)$\n",
    "  - $\\O(\\frac{n}{2})$\n",
    "  - $\\O(n)$\n",
    "* - Element is not in the list\n",
    "  - $\\O(n)$\n",
    "  - $\\O(n)$\n",
    "  - $\\O(n)$\n",
    "```"
   ]
  },
  {
   "cell_type": "markdown",
   "id": "57a46e86-3315-43c2-b7ff-90c9f42ac74c",
   "metadata": {},
   "source": [
    "### Space Complexity\n",
    "\n",
    "Space complexity: $\\O(n)$. The space required depends on the number of items stored in the list, so if the list (container) stores up to $n$ items, then space complexity is $\\O(n)$."
   ]
  },
  {
   "cell_type": "markdown",
   "id": "31e282b2",
   "metadata": {},
   "source": [
    "## Ordered Sequential Search\n",
    "\n",
    "Previously, we showed how to perform sequential search on a list, which does not assumes order.\n",
    "\n",
    "We noticed that when the item is not in the list, the time complexity is $\\O(n)$, because we need to check every element in the list. This can be alleviated if we assume that the list is ordered, and we can stop searching when we reach an element that is greater than the element we are searching for.\n",
    "\n",
    "For now, we will assume the list contains a list of integers, but this can be generalized to other data types through\n",
    "mapping. For example, we can map the alphabet to a list of integers, and then perform ordered sequential search on the list of integers."
   ]
  },
  {
   "cell_type": "markdown",
   "id": "7f9679b1",
   "metadata": {},
   "source": [
    "### Python Implementation"
   ]
  },
  {
   "cell_type": "code",
   "execution_count": 2,
   "id": "525e6de2",
   "metadata": {},
   "outputs": [],
   "source": [
    "from __future__ import annotations\n",
    "\n",
    "from typing import Generic, TypeVar, List, Iterable\n",
    "\n",
    "T = TypeVar(\"T\", str, int, float)\n",
    "\n",
    "def binary_search(container: Iterable[T], element: T) -> bool:\n",
    "    start_index = 0\n",
    "    end_index = len(container) - 1\n",
    "\n",
    "    mid_index = (end_index - start_index) // 2  # solves whether list len is even or odd\n",
    "\n",
    "    while end_index - start_index > 1:\n",
    "        mid_number = container[mid_index]\n",
    "\n",
    "        if mid_number == element:\n",
    "            return mid_index\n",
    "\n",
    "        else:\n",
    "            if element > mid_number:\n",
    "                start_index = mid_index + 1\n",
    "                # end_index does not change\n",
    "                mid_index = (end_index - start_index) // 2\n",
    "            else:\n",
    "                end_index = mid_index - 1\n",
    "                # start_index does not change\n",
    "                mid_index = (end_index - start_index) // 2\n",
    "\n",
    "    remainder_start = container[start_index]\n",
    "    remainder_end = container[end_index]\n",
    "    if element == remainder_start:\n",
    "        return start_index\n",
    "    elif element == remainder_end:\n",
    "        return end_index\n",
    "    else:\n",
    "        return \"Not Found!\""
   ]
  },
  {
   "cell_type": "code",
   "execution_count": 3,
   "id": "061bd592",
   "metadata": {},
   "outputs": [
    {
     "name": "stdout",
     "output_type": "stream",
     "text": [
      "Not Found!\n",
      "Not Found!\n",
      "4\n"
     ]
    }
   ],
   "source": [
    "ordered_list = [0, 1, 2, 8, 13, 17, 19, 32, 42]\n",
    "print(binary_search(ordered_list, -1))\n",
    "print(binary_search(ordered_list, 3))\n",
    "print(binary_search(ordered_list, 13))"
   ]
  },
  {
   "cell_type": "markdown",
   "id": "16073688",
   "metadata": {},
   "source": [
    "### Time Complexity\n",
    "\n",
    "Note that for ordered sequential search, the time complexity does not change for the case\n",
    "when the item is in the list.\n",
    "\n",
    "However, for the case when the item is not in the list, we have our \n",
    "best case scenario to be $\\O(1)$, because upon checking our first element,\n",
    "and if the first element is already greater than the element we are searching for, then we can stop searching and return `False`.\n",
    "\n",
    "For the worst case scenario, it is still $\\O(n)$ since we have to check every element in the list.\n",
    "\n",
    "But, for the average case, it is now $\\O(\\frac{n}{2})$, because we can stop searching when we reach an element that is greater than the element we are searching for.\n",
    "\n",
    "```{list-table} Time Complexity of Ordered Sequential Search\n",
    ":header-rows: 1\n",
    ":name: ordered_sequential_search_time_complexity\n",
    "\n",
    "* - Case\n",
    "  - Worst Case\n",
    "  - Average Case\n",
    "  - Best Case\n",
    "* - Element is in the list\n",
    "  - $\\O(1)$\n",
    "  - $\\O(\\frac{n}{2})$\n",
    "  - $\\O(n)$\n",
    "* - Element is not in the list\n",
    "  - $\\O(1)$\n",
    "  - $\\O(\\frac{n}{2})$\n",
    "  - $\\O(n)$\n",
    "```"
   ]
  },
  {
   "cell_type": "markdown",
   "id": "dddc7856-701a-42a9-ad8c-8057209713fd",
   "metadata": {},
   "source": [
    "## Further Readings\n",
    "\n",
    "- https://www.geeksforgeeks.org/linear-search/\n",
    "- https://runestone.academy/ns/books/published/pythonds/SortSearch/TheSequentialSearch.html\n",
    "- https://en.wikipedia.org/wiki/Binary_search_algorithm"
   ]
  }
 ],
 "metadata": {
  "kernelspec": {
   "display_name": "Python 3 (ipykernel)",
   "language": "python",
   "name": "python3"
  },
  "language_info": {
   "codemirror_mode": {
    "name": "ipython",
    "version": 3
   },
   "file_extension": ".py",
   "mimetype": "text/x-python",
   "name": "python",
   "nbconvert_exporter": "python",
   "pygments_lexer": "ipython3",
   "version": "3.8.10"
  },
  "vscode": {
   "interpreter": {
    "hash": "b0fa6594d8f4cbf19f97940f81e996739fb7646882a419484c72d19e05852a7e"
   }
  }
 },
 "nbformat": 4,
 "nbformat_minor": 5
}
