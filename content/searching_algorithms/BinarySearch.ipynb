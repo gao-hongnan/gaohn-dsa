{
 "cells": [
  {
   "cell_type": "markdown",
   "id": "f498fdf7-5a20-441b-8032-382549a4dc7a",
   "metadata": {},
   "source": [
    "# Binary Search"
   ]
  },
  {
   "cell_type": "markdown",
   "id": "69048800",
   "metadata": {},
   "source": [
    "[![Open in Colab](https://colab.research.google.com/assets/colab-badge.svg)](https://colab.research.google.com/github/reighns92/reighns-ml-blog/blob/master/docs/reighns_ml_journey/data_structures_and_algorithms/Stack.ipynb)"
   ]
  },
  {
   "cell_type": "markdown",
   "id": "ccd8ca88",
   "metadata": {},
   "source": [
    "## Intuition of Binary Search\n",
    "\n",
    "We have seen in {doc}`SequentialSearch` that if the container/list is sorted, we took\n",
    "advantage of that and made the search faster for the case when the target element is not\n",
    "in the list.\n",
    "\n",
    "We can be more efficient by using a divide and conquer strategy. We can divide the list\n",
    "into two halves and check if the target element is in the first half or the second half\n",
    "by comparing it with the middle element. If the target element is in the first half, we\n",
    "can discard the second half and search in the first half. We continue this process\n",
    "until we find the target element or until the search space is exhausted."
   ]
  },
  {
   "cell_type": "markdown",
   "id": "6b0bf97d",
   "metadata": {},
   "source": [
    "\n",
    "```{figure} ../assets/binary_search_geeksforgeeks.png\n",
    "---\n",
    "name: binary_search_diagram\n",
    "---\n",
    "Binary Search Algorithm. Image credit to [GeeksforGeeks](https://www.geeksforgeeks.org/binary-search/).\n",
    "```"
   ]
  },
  {
   "cell_type": "markdown",
   "id": "0a343293",
   "metadata": {},
   "source": [
    "## Constraints\n",
    "\n",
    "The constaints/assumptions are made below, we follow the same set of assumptions from\n",
    "[LeetCode's Binary Search](https://leetcode.com/problems/binary-search/).\n",
    "\n",
    "- The array consists of **unique** elements of type `int` with base 10.\n",
    "- The array must be sorted in ascending order.\n",
    "- `1 <= len(container) <= 10^4`\n",
    "- `-10^4 <= container[i], target <= 10^4`\n"
   ]
  },
  {
   "cell_type": "markdown",
   "id": "9d5d007e",
   "metadata": {},
   "source": [
    "## Algorithm (Iterative)\n",
    "\n",
    "````{prf:algorithm} Binary Search Algorithm\n",
    ":label: algo_binary_search_iterative\n",
    "\n",
    "https://en.wikipedia.org/wiki/Binary_search_algorithm\n",
    "\n",
    "Binary search works on sorted arrays. Binary search begins by comparing an element in the middle of the array with the target value. If the target value matches the element, its position in the array is returned. If the target value is less than the element, the search continues in the lower half of the array. If the target value is greater than the element, the search continues in the upper half of the array. By doing this, the algorithm eliminates the half in which the target value cannot lie in each iteration.\n",
    "\n",
    "Given an array $A$ of $n$ elements with values or records $A_0, A_1, \\dots, A_{n-1}$, sorted such that $A_0 \\leq A_1 \\leq \\dots \\leq A_{n-1}$, and target value $T$, the following subroutine uses binary search to find the index of $T$ in $A$.\n",
    "\n",
    "1. Set $L$ to 0 and $R$ to $n-1$ (the indices of the leftmost and rightmost elements of the array).\n",
    "2. If $L > R$, the search terminates as unsuccessful, return -1. In other words, here is while $L \\leq R$.\n",
    "3. Set $m$ to the floor of $(L + R) / 2$ (the index of the middle element of the array).\n",
    "    In other words, $m = \\lfloor \\frac{L + R}{2} \\rfloor$. In the event where the\n",
    "    length of the array $A$ is odd, then $m$ will be the index of the middle element (exactly middle).\n",
    "    In the event where the length of the array $A$ is even,\n",
    "    then $m$ will be the index of the leftmost element of the right half.\n",
    "    In practice, to avoid overflow, use $m = L + \\lfloor \\frac{R - L}{2} \\rfloor$.\n",
    "4. If $A_m < T$, set $L$ to $m + 1$ and go to step 2.\n",
    "5. If $A_m > T$, set $R$ to $m - 1$ and go to step 2.\n",
    "6. If $A_m = T$, the search is done; return $m$.\n",
    "\n",
    "The pseudocode for the binary search algorithm is as follows:\n",
    "\n",
    "```python\n",
    "def binary_search(A, T):\n",
    "    L = 0\n",
    "    R = len(A) - 1\n",
    "    while L <= R:\n",
    "        m = (L + R) // 2\n",
    "        if A[m] < T:\n",
    "            L = m + 1\n",
    "        elif A[m] > T:\n",
    "            R = m - 1\n",
    "        else:\n",
    "            return m\n",
    "    return -1\n",
    "```\n",
    "\n",
    "Note that we can use the ceiling function in step 3. \n",
    "This may change the result if the target value appears more than once in the array. \n",
    "````"
   ]
  },
  {
   "cell_type": "markdown",
   "id": "975e60c6",
   "metadata": {},
   "source": [
    "## Example (Iterative)\n",
    "\n",
    "Given a list of 10 elements of `[0, 1, 2, 3, 4, 5, 6, 7, 8, 9]`, we can use the binary search algorithm to find the index of the target value `9` in the list. Following the algorithm, we see the following:\n",
    "\n",
    "- `L = 0` and `R = 9`, the middle index is `m = (0 + 9) // 2 = 4`.\n",
    "  - `A[m] = 4 < T = 9`, so we set `L = m + 1 = 5` because we know that the target value `9` is in the right half of the array, if it exists.\n",
    "  - It is worth noting that the right index `R = 9` does not need to be changed. Furthermore, we defined `L = m + 1` instead of `L = m` because we know that the middle index `m` is not the target value `9`, and we do not need to search it again.\n",
    "- `L = 5` and `R = 9`, the middle index is `m = (5 + 9) // 2 = 7`.\n",
    "  - `A[m] = 7 < T = 9`, so we set `L = m + 1 = 8` because we know that the target value `9` is in the right half of the array, if it exists.\n",
    "- `L = 8` and `R = 9`, the middle index is `m = (8 + 9) // 2 = 8`.\n",
    "  - `A[m] = 8 < T = 9`, so we set `L = m + 1 = 9` because we know that the target value `9` is in the right half of the array, if it exists. \n",
    "  - It is worth making a mental note that the right half of the array is `[9, 9]` where the left and right index\n",
    "    are `L = 9` and `R = 9`, respectively. So the right half has only one element left. So our next iteration will be decisive.\n",
    "- `L = 9` and `R = 9`, the middle index is `m = (9 + 9) // 2 = 9`.\n",
    "  - `A[m] = 9 = T = 9`, so we return `m = 9` because we found the target value `9` in the array."
   ]
  },
  {
   "cell_type": "markdown",
   "id": "2401adc3",
   "metadata": {},
   "source": [
    "## Implementation (Iterative)"
   ]
  },
  {
   "cell_type": "code",
   "execution_count": 4,
   "id": "c8ea0e3d",
   "metadata": {},
   "outputs": [],
   "source": [
    "from __future__ import annotations\n",
    "\n",
    "import math\n",
    "from typing import Iterable, TypeVar\n",
    "\n",
    "T = TypeVar(\"T\", str, int, float)  # T should be of type int, float or str\n",
    "\n",
    "\n",
    "def binary_search_iterative(\n",
    "    container: Iterable[T], target: T, left_index: int, right_index: int\n",
    ") -> int:\n",
    "    \"\"\"Binary search iterative implementation.\"\"\"\n",
    "    while left_index <= right_index:\n",
    "        # print(f\"left_index: {left_index}, right_index: {right_index}\")\n",
    "        # (left_index + right_index) // 2 will cause overflow.\n",
    "        mid_index = left_index + math.floor((right_index - left_index) / 2)\n",
    "\n",
    "        # Check if target is present at mid\n",
    "        if container[mid_index] == target:\n",
    "            return mid_index\n",
    "\n",
    "        # If target is greater, we discard left half, so we update left_index\n",
    "        elif container[mid_index] < target:\n",
    "            left_index = mid_index + 1\n",
    "\n",
    "        # If target is smaller, we discard right half, so we update right_index\n",
    "        else:\n",
    "            right_index = mid_index - 1\n",
    "\n",
    "    # Search has ended and target is not present in the container\n",
    "    return -1"
   ]
  },
  {
   "cell_type": "code",
   "execution_count": 5,
   "id": "8040da4e",
   "metadata": {},
   "outputs": [
    {
     "name": "stdout",
     "output_type": "stream",
     "text": [
      "-1\n",
      "-1\n",
      "8\n"
     ]
    }
   ],
   "source": [
    "ordered_list = [0, 1, 2, 8, 13, 17, 19, 32, 42]\n",
    "left_index = 0\n",
    "right_index = len(ordered_list) - 1\n",
    "\n",
    "print(binary_search_iterative(ordered_list, -1, left_index, right_index))\n",
    "print(binary_search_iterative(ordered_list, 3.5, left_index, right_index))\n",
    "print(binary_search_iterative(ordered_list, 42, left_index, right_index))"
   ]
  },
  {
   "cell_type": "markdown",
   "id": "851151e3",
   "metadata": {},
   "source": [
    "## Time Complexity (Iterative)\n",
    "\n",
    "We see that for an array of $10$ elements, I purposely choose `9` as the target value, which is also the\n",
    "last element. In a typical sequential search, it will take $10$ iterations to find the target value `9`,\n",
    "and therefore the time complexity is $O(n)$. \n",
    "\n",
    "However, we took a total of $4$ iterations to find the target value `9` in the array for a binary search.\n",
    "How did we get to this result? \n",
    "\n",
    "To analyze the binary search algorithm, we need to recall that each comparison eliminates about\n",
    "half of the remaining items from consideration. What is the maximum number of comparisons\n",
    "this algorithm will require to check the entire list {cite}`runestone_binary_search`?\n",
    "\n",
    "Let's say we have an array of $n$ elements. \n",
    "\n",
    "- The first comparison eliminates about half of the remaining items from consideration.\n",
    "    Thus, after the first comparison, we have about $\\frac{n}{2}$ elements left.\n",
    "- The second comparison eliminates about half of the remaining items from consideration.\n",
    "    Thus, after the second comparison, we have about $\\frac{n}{2^2}$ elements left.\n",
    "- The third comparison eliminates about half of the remaining items from consideration.\n",
    "    Thus, after the third comparison, we have about $\\frac{n}{2^3}$ elements left.\n",
    "- The $k$-th comparison eliminates about half of the remaining items from consideration.\n",
    "    Thus, after the $k$-th comparison, we have about $\\frac{n}{2^k}$ elements left.\n",
    "\n",
    "Note that we say approximately/about because the number of elements left after the $i$-th comparison\n",
    "is not always \"half\". Using back the same example previously, if we have an array of $10$ elements, \n",
    "and we want to find $9$, then after the first\n",
    "comparison, we discard the first half of the array, `[0, 1, 2, 3, 4]`, and we have `[5, 6, 7, 8, 9]` left.\n",
    "This is indeed $\\frac{n}{2} = \\frac{10}{2} = 5$ elements left. However, after the second comparison,\n",
    "we discard the first half of the array, `[5, 6]`, and we have `[7, 8, 9]` left. This is now $3$\n",
    "elements left, which is not exactly half of the remaining items from consideration since `[5, 6, 7, 8, 9]`\n",
    "is an array of odd length.\n",
    "\n",
    "```{list-table} Number of items left after $k$-th comparison\n",
    ":header-rows: 1\n",
    ":name: items_left_binary_search\n",
    "\n",
    "* - Comparisons\n",
    "  - Approximate number of items left\n",
    "* - $i = 1$\n",
    "  - $\\frac{n}{2}$\n",
    "* - $i = 2$\n",
    "  - $\\frac{n}{2^2}$\n",
    "* - $i = 3$\n",
    "  - $\\frac{n}{2^3}$\n",
    "* - $\\ldots$\n",
    "  - $\\ldots$    \n",
    "* - $i = k$\n",
    "  - $\\frac{n}{2^k}$\n",
    "```\n",
    "\n",
    "If we split the container/list enough times, eventually we will have only one item left {cite}`runestone_binary_search`.\n",
    "The last item is either the target value or it is not.\n",
    "\n",
    "So our stopping condition is when the number of items left is $1$. Consequently,\n",
    "we solve for $k$ in the equation $\\frac{n}{2^k} = 1$ to get $k = \\log_2 n$.\n",
    "We say that the binary search algorithm takes $\\O(\\log_2 n)$ time to search for an item in a list of $n$ items,\n",
    "which means the maximum number of comparisons is in a logarithmic relationship\n",
    "to the number of items in the list {cite}`runestone_binary_search`.\n",
    "\n",
    "The time complexity table is listed below, the best case is $\\O(1)$ for the same reason as the sequential search algorithm,\n",
    "where the `target` element is in the middle, and we just need to make one comparison. For the worst case, the element is\n",
    "either in the first or last index,  or it is not in the list at all. In this case, we need to make $\\log_2 n$ comparisons.\n",
    "\n",
    "\n",
    "```{list-table} Time Complexity of Binary Search\n",
    ":header-rows: 1\n",
    ":name: binary_search_time_complexity_iterative\n",
    "\n",
    "* - Case\n",
    "  - Worst Case\n",
    "  - Average Case\n",
    "  - Best Case\n",
    "* - Element is in the list\n",
    "  - $\\O(\\log_2 n)$\n",
    "  - $\\O(\\log_2 n)$ [^average_case]\n",
    "  - $\\O(1)$\n",
    "* - Element is not in the list\n",
    "  - $\\O(\\log_2 n)$\n",
    "  - $\\O(\\log_2 n)$\n",
    "  - $\\O(\\log_2 n)$\n",
    "```"
   ]
  },
  {
   "cell_type": "markdown",
   "id": "74ad8126-f170-428c-964b-667d0404b53b",
   "metadata": {},
   "source": [
    "## Space Complexity (Iterative)\n",
    "\n",
    "Space complexity: $\\O(1)$. This is because we only need to store the left and right index, `L` and `R`, and the middle index, `m`.\n",
    "Intuitively, once we created the 3 variables, these are stored in memory and we can reuse them for the next iteration, so\n",
    "it is $\\O(1)$ for each variable, which can be just $\\O(1)$. It is worth noting that\n",
    "for iterative approach, there is only 1 single stack frame for the call stack, so the space complexity is $\\O(1)$.\n",
    "\n",
    "Your while loop doesn't ever allocate anything extra, either by creating new variables or object instances, \n",
    "or by making more recursive calls. So the only space you need, for your whole call, is the $\\O(1)$ space \n",
    "taken up by the variable(s) you create and the rest of the stack frame, referenced from [stackexchange](https://stackoverflow.com/questions/26564646/space-complexity-of-iterative-vs-recursive-binary-search-tree).\n"
   ]
  },
  {
   "cell_type": "markdown",
   "id": "c7f9b39e",
   "metadata": {},
   "source": [
    "## Implementation (Recursive)"
   ]
  },
  {
   "cell_type": "code",
   "execution_count": 6,
   "id": "525e6de2",
   "metadata": {},
   "outputs": [],
   "source": [
    "def binary_search_recursive(\n",
    "    container: Iterable[T], target: T, left_index: int, right_index: int\n",
    ") -> int:\n",
    "    \"\"\"Binary search recursive implementation.\"\"\"\n",
    "    mid_index = left_index + math.floor((right_index - left_index) / 2)\n",
    "    if left_index <= right_index:\n",
    "        if container[mid_index] == target:\n",
    "            return mid_index  # base case 1\n",
    "        elif container[mid_index] < target:\n",
    "            return binary_search_recursive(\n",
    "                container, target, mid_index + 1, right_index\n",
    "            )\n",
    "        else:\n",
    "            return binary_search_recursive(container, target, left_index, mid_index - 1)\n",
    "    else:\n",
    "        return -1  # base case 2"
   ]
  },
  {
   "cell_type": "code",
   "execution_count": 7,
   "id": "061bd592",
   "metadata": {},
   "outputs": [
    {
     "name": "stdout",
     "output_type": "stream",
     "text": [
      "-1\n",
      "-1\n",
      "8\n"
     ]
    }
   ],
   "source": [
    "ordered_list = [0, 1, 2, 8, 13, 17, 19, 32, 42]\n",
    "left_index = 0\n",
    "right_index = len(ordered_list) - 1\n",
    "\n",
    "print(binary_search_recursive(ordered_list, -1, left_index, right_index))\n",
    "print(binary_search_recursive(ordered_list, 3.5, left_index, right_index))\n",
    "print(binary_search_recursive(ordered_list, 42, left_index, right_index))"
   ]
  },
  {
   "cell_type": "markdown",
   "id": "443b6087",
   "metadata": {},
   "source": [
    "Using Python Tutor to visualize recursive calls [here](https://pythontutor.com/render.html#code=import%20math%0Afrom%20typing%20import%20Iterable,%20TypeVar,%20Tuple%0A%0AT%20%3D%20TypeVar%28%22T%22,%20str,%20int,%20float%29%20%20%23%20T%20should%20be%20of%20type%20int,%20float%20or%20str%0A%0Adef%20binary_search_recursive%28%0A%20%20%20%20container%3A%20Iterable%5BT%5D,%20target%3A%20T,%20left_index%3A%20int,%20right_index%3A%20int%0A%29%20-%3E%20int%3A%0A%20%20%20%20%22%22%22Binary%20search%20recursive%20implementation.%22%22%22%0A%20%20%20%20mid_index%20%3D%20left_index%20%2B%20math.floor%28%28right_index%20-%20left_index%29%20/%202%29%0A%20%20%20%20if%20left_index%20%3C%3D%20right_index%3A%0A%20%20%20%20%20%20%20%20if%20container%5Bmid_index%5D%20%3D%3D%20target%3A%0A%20%20%20%20%20%20%20%20%20%20%20%20return%20mid_index%20%20%23%20base%20case%201%0A%20%20%20%20%20%20%20%20elif%20container%5Bmid_index%5D%20%3C%20target%3A%0A%20%20%20%20%20%20%20%20%20%20%20%20return%20binary_search_recursive%28%0A%20%20%20%20%20%20%20%20%20%20%20%20%20%20%20%20container,%20target,%20mid_index%20%2B%201,%20right_index%0A%20%20%20%20%20%20%20%20%20%20%20%20%29%0A%20%20%20%20%20%20%20%20else%3A%0A%20%20%20%20%20%20%20%20%20%20%20%20return%20binary_search_recursive%28container,%20target,%20left_index,%20mid_index%20-%201%29%0A%20%20%20%20else%3A%0A%20%20%20%20%20%20%20%20return%20-1%20%20%23%20base%20case%202%0A%20%20%20%20%0Aordered_list%20%3D%20%5B0,%201,%202,%208,%2013,%2017,%2019,%2032,%2042%5D%0Aleft_index%20%3D%200%0Aright_index%20%3D%20len%28ordered_list%29%20-%201%0Aprint%28binary_search_recursive%28ordered_list,%2042,%20left_index,%20right_index%29%29&cumulative=false&curInstr=17&heapPrimitives=nevernest&mode=display&origin=opt-frontend.js&py=3&rawInputLstJSON=%5B%5D&textReferences=false)."
   ]
  },
  {
   "cell_type": "markdown",
   "id": "3cb75566",
   "metadata": {},
   "source": [
    "<iframe width=\"800\" height=\"500\" frameborder=\"0\" src=\"https://pythontutor.com/iframe-embed.html#code=import%20math%0Afrom%20typing%20import%20Iterable,%20TypeVar,%20Tuple%0A%0AT%20%3D%20TypeVar%28%22T%22,%20str,%20int,%20float%29%20%20%23%20T%20should%20be%20of%20type%20int,%20float%20or%20str%0A%0Adef%20binary_search_recursive%28%0A%20%20%20%20container%3A%20Iterable%5BT%5D,%20target%3A%20T,%20left_index%3A%20int,%20right_index%3A%20int%0A%29%20-%3E%20int%3A%0A%20%20%20%20%22%22%22Binary%20search%20recursive%20implementation.%22%22%22%0A%20%20%20%20mid_index%20%3D%20left_index%20%2B%20math.floor%28%28right_index%20-%20left_index%29%20/%202%29%0A%20%20%20%20if%20left_index%20%3C%3D%20right_index%3A%0A%20%20%20%20%20%20%20%20if%20container%5Bmid_index%5D%20%3D%3D%20target%3A%0A%20%20%20%20%20%20%20%20%20%20%20%20return%20mid_index%20%20%23%20base%20case%201%0A%20%20%20%20%20%20%20%20elif%20container%5Bmid_index%5D%20%3C%20target%3A%0A%20%20%20%20%20%20%20%20%20%20%20%20return%20binary_search_recursive%28%0A%20%20%20%20%20%20%20%20%20%20%20%20%20%20%20%20container,%20target,%20mid_index%20%2B%201,%20right_index%0A%20%20%20%20%20%20%20%20%20%20%20%20%29%0A%20%20%20%20%20%20%20%20else%3A%0A%20%20%20%20%20%20%20%20%20%20%20%20return%20binary_search_recursive%28container,%20target,%20left_index,%20mid_index%20-%201%29%0A%20%20%20%20else%3A%0A%20%20%20%20%20%20%20%20return%20-1%20%20%23%20base%20case%202%0A%20%20%20%20%0Aordered_list%20%3D%20%5B0,%201,%202,%208,%2013,%2017,%2019,%2032,%2042%5D%0Aleft_index%20%3D%200%0Aright_index%20%3D%20len%28ordered_list%29%20-%201%0Aprint%28binary_search_recursive%28ordered_list,%2042,%20left_index,%20right_index%29%29&codeDivHeight=400&codeDivWidth=350&cumulative=false&curInstr=17&heapPrimitives=nevernest&origin=opt-frontend.js&py=3&rawInputLstJSON=%5B%5D&textReferences=false\"> </iframe>"
   ]
  },
  {
   "cell_type": "markdown",
   "id": "9b3fa344",
   "metadata": {},
   "source": [
    "Let's see if our implementation obeys the 3 Laws of Recursion ({prf:ref}`axiom_three_laws_of_recursion`).\n",
    "\n",
    "This time, we need to update the left and right index, `L` and `R`, and the middle index, `m` in the recursive call.\n",
    "\n",
    "1. We have two base cases, when `L > R` and `A[m] == T`.\n",
    "2. We are changing the state of the problem, `L` and `R` are updated in the recursive call, effectively\n",
    "    reducing the size of the problem (the `container`).\n",
    "3. The recursive algorithm calls itself with a smaller problem, `L` and `R` are updated in the recursive call.\n"
   ]
  },
  {
   "cell_type": "markdown",
   "id": "7088d3a9",
   "metadata": {},
   "source": [
    "## Time Complexity (Recursive)\n",
    "\n",
    "```{list-table} Time Complexity of Binary Search\n",
    ":header-rows: 1\n",
    ":name: binary_search_time_complexity_recursive\n",
    "\n",
    "* - Case\n",
    "  - Worst Case\n",
    "  - Average Case\n",
    "  - Best Case\n",
    "* - Element is in the list\n",
    "  - $\\O(\\log_2 n)$\n",
    "  - $\\O(\\log_2 n)$ [^average_case]\n",
    "  - $\\O(1)$\n",
    "* - Element is not in the list\n",
    "  - $\\O(\\log_2 n)$\n",
    "  - $\\O(\\log_2 n)$\n",
    "  - $\\O(\\log_2 n)$\n",
    "```"
   ]
  },
  {
   "cell_type": "markdown",
   "id": "6f449442",
   "metadata": {},
   "source": [
    "## Space Complexity (Recursive)\n",
    "\n",
    "If you use a recursive approach, then at each stage, you have to make a recursive call. That means leaving the current invocation on the stack, and calling a new one. When you're $k$ levels deep, you've got $k$ lots of stack frame, so the space complexity ends up being proportional to the depth you have to search. In our case, there are $\\log_2 n$ levels, so the space complexity is $\\O(\\log_2 n)$.\n",
    "It is worth noting that what this means is if $N$ recursive calls are made, there will be $N$ recursive calls stacked up on the call stack in memory."
   ]
  },
  {
   "cell_type": "markdown",
   "id": "dddc7856-701a-42a9-ad8c-8057209713fd",
   "metadata": {},
   "source": [
    "## Further Readings\n",
    "\n",
    "- https://www.geeksforgeeks.org/binary-search/\n",
    "- https://runestone.academy/ns/books/published/pythonds3/SortSearch/TheBinarySearch.html\n",
    "- https://en.wikipedia.org/wiki/Binary_search_algorithm"
   ]
  },
  {
   "cell_type": "markdown",
   "id": "d7ac5957",
   "metadata": {},
   "source": [
    "[^average_case]: The average case is about the same as the worst case, but if you want to be pedantic, there is a mathematical derivation in [Wikiepedia](https://en.wikipedia.org/wiki/Binary_search_algorithm#Derivation_of_average_case)."
   ]
  }
 ],
 "metadata": {
  "cell_type": "code",
  "kernelspec": {
   "display_name": "Python 3.8.10 ('venv_dsa': venv)",
   "language": "python",
   "name": "python3"
  },
  "language_info": {
   "codemirror_mode": {
    "name": "ipython",
    "version": 3
   },
   "file_extension": ".py",
   "mimetype": "text/x-python",
   "name": "python",
   "nbconvert_exporter": "python",
   "pygments_lexer": "ipython3",
   "version": "3.8.10"
  },
  "metadata": {
   "mystnb": {
    "number_source_lines": true
   }
  },
  "vscode": {
   "interpreter": {
    "hash": "4e6f416d0ee4cc058e55edaeec9b3ebb8118a2e8e25e41959d550aad8809f295"
   }
  }
 },
 "nbformat": 4,
 "nbformat_minor": 5
}
